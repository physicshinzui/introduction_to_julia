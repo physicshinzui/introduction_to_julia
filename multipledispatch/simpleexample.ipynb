{
 "cells": [
  {
   "cell_type": "code",
   "execution_count": 13,
   "metadata": {},
   "outputs": [
    {
     "data": {
      "text/plain": [
       "v\"1.6.0\""
      ]
     },
     "execution_count": 13,
     "metadata": {},
     "output_type": "execute_result"
    }
   ],
   "source": [
    "VERSION"
   ]
  },
  {
   "cell_type": "code",
   "execution_count": 14,
   "metadata": {},
   "outputs": [
    {
     "name": "stderr",
     "output_type": "stream",
     "text": [
      "WARNING: replacing module My.\n"
     ]
    },
    {
     "data": {
      "text/plain": [
       "Hello, \"Julia\"!"
      ]
     },
     "execution_count": 14,
     "metadata": {},
     "output_type": "execute_result"
    }
   ],
   "source": [
    "module My \n",
    "\n",
    "struct Hello{T}\n",
    "    a::T\n",
    "end\n",
    "\n",
    "function Base.show(io::IO, x::Hello)\n",
    "    print(io, \"Hello, \")\n",
    "    show(io, x.a)\n",
    "    print(io, '!')\n",
    "end\n",
    "end\n",
    "\n",
    "My.Hello(\"Julia\")"
   ]
  },
  {
   "cell_type": "code",
   "execution_count": 21,
   "metadata": {},
   "outputs": [
    {
     "name": "stdout",
     "output_type": "stream",
     "text": [
      "search: \u001b[0m\u001b[1mI\u001b[22m\u001b[0m\u001b[1mO\u001b[22m \u001b[0m\u001b[1mI\u001b[22m\u001b[0m\u001b[1mO\u001b[22mStream \u001b[0m\u001b[1mI\u001b[22m\u001b[0m\u001b[1mO\u001b[22mBuffer \u001b[0m\u001b[1mI\u001b[22m\u001b[0m\u001b[1mO\u001b[22mContext fd\u001b[0m\u001b[1mi\u001b[22m\u001b[0m\u001b[1mo\u001b[22m Un\u001b[0m\u001b[1mi\u001b[22m\u001b[0m\u001b[1mo\u001b[22mn un\u001b[0m\u001b[1mi\u001b[22m\u001b[0m\u001b[1mo\u001b[22mn un\u001b[0m\u001b[1mi\u001b[22m\u001b[0m\u001b[1mo\u001b[22mn! Un\u001b[0m\u001b[1mi\u001b[22m\u001b[0m\u001b[1mo\u001b[22mn{} Un\u001b[0m\u001b[1mi\u001b[22m\u001b[0m\u001b[1mo\u001b[22mnAll Rat\u001b[0m\u001b[1mi\u001b[22m\u001b[0m\u001b[1mo\u001b[22mnal rat\u001b[0m\u001b[1mi\u001b[22m\u001b[0m\u001b[1mo\u001b[22mnalize VERS\u001b[0m\u001b[1mI\u001b[22m\u001b[0m\u001b[1mO\u001b[22mN vers\u001b[0m\u001b[1mi\u001b[22m\u001b[0m\u001b[1mo\u001b[22mninfo Vers\u001b[0m\u001b[1mi\u001b[22m\u001b[0m\u001b[1mo\u001b[22mnNumber funct\u001b[0m\u001b[1mi\u001b[22m\u001b[0m\u001b[1mo\u001b[22mn Funct\u001b[0m\u001b[1mi\u001b[22m\u001b[0m\u001b[1mo\u001b[22mn funct\u001b[0m\u001b[1mi\u001b[22m\u001b[0m\u001b[1mo\u001b[22mnloc \u001b[0m\u001b[1mi\u001b[22ms\u001b[0m\u001b[1mo\u001b[22mne \u001b[0m\u001b[1mi\u001b[22ms\u001b[0m\u001b[1mo\u001b[22mdd \u001b[0m\u001b[1mi\u001b[22ms\u001b[0m\u001b[1mo\u001b[22mpen Except\u001b[0m\u001b[1mi\u001b[22m\u001b[0m\u001b[1mo\u001b[22mn @funct\u001b[0m\u001b[1mi\u001b[22m\u001b[0m\u001b[1mo\u001b[22mnloc Assert\u001b[0m\u001b[1mi\u001b[22m\u001b[0m\u001b[1mo\u001b[22mnError b\u001b[0m\u001b[1mi\u001b[22mn\u001b[0m\u001b[1mo\u001b[22mmial @cfunct\u001b[0m\u001b[1mi\u001b[22m\u001b[0m\u001b[1mo\u001b[22mn Segmentat\u001b[0m\u001b[1mi\u001b[22m\u001b[0m\u001b[1mo\u001b[22mnFault \u001b[0m\u001b[1mi\u001b[22mmp\u001b[0m\u001b[1mo\u001b[22mrt \u001b[0m\u001b[1mi\u001b[22mnv\u001b[0m\u001b[1mo\u001b[22mke \u001b[0m\u001b[1mi\u001b[22msp\u001b[0m\u001b[1mo\u001b[22mw2 \u001b[0m\u001b[1mi\u001b[22msm\u001b[0m\u001b[1mo\u001b[22munt \u001b[0m\u001b[1mi\u001b[22msc\u001b[0m\u001b[1mo\u001b[22mnst \u001b[0m\u001b[1mi\u001b[22mss\u001b[0m\u001b[1mo\u001b[22mrted \u001b[0m\u001b[1mi\u001b[22mss\u001b[0m\u001b[1mo\u001b[22mcket \u001b[0m\u001b[1mi\u001b[22msl\u001b[0m\u001b[1mo\u001b[22mcked \u001b[0m\u001b[1mi\u001b[22mns\u001b[0m\u001b[1mo\u001b[22mrted \u001b[0m\u001b[1mi\u001b[22msn\u001b[0m\u001b[1mo\u001b[22mthing \u001b[0m\u001b[1mi\u001b[22msl\u001b[0m\u001b[1mo\u001b[22mwercase \u001b[0m\u001b[1mi\u001b[22mgn\u001b[0m\u001b[1mo\u001b[22mrestatus ErrorExcept\u001b[0m\u001b[1mi\u001b[22m\u001b[0m\u001b[1mo\u001b[22mn \u001b[0m\u001b[1mi\u001b[22msc\u001b[0m\u001b[1mo\u001b[22mncretetype @\u001b[0m\u001b[1mi\u001b[22mnf\u001b[0m\u001b[1mo\u001b[22m s\u001b[0m\u001b[1mi\u001b[22mze\u001b[0m\u001b[1mo\u001b[22mf s\u001b[0m\u001b[1mi\u001b[22mnc\u001b[0m\u001b[1mo\u001b[22ms s\u001b[0m\u001b[1mi\u001b[22mnc\u001b[0m\u001b[1mo\u001b[22msd s\u001b[0m\u001b[1mi\u001b[22mnc\u001b[0m\u001b[1mo\u001b[22mspi b\u001b[0m\u001b[1mi\u001b[22mtr\u001b[0m\u001b[1mo\u001b[22mtate @\u001b[0m\u001b[1mi\u001b[22mnb\u001b[0m\u001b[1mo\u001b[22munds cl\u001b[0m\u001b[1mi\u001b[22mpb\u001b[0m\u001b[1mo\u001b[22mard ComposedFunct\u001b[0m\u001b[1mi\u001b[22m\u001b[0m\u001b[1mo\u001b[22mn var\u001b[0m\u001b[1mi\u001b[22mnf\u001b[0m\u001b[1mo\u001b[22m pos\u001b[0m\u001b[1mi\u001b[22mti\u001b[0m\u001b[1mo\u001b[22mn CapturedExcept\u001b[0m\u001b[1mi\u001b[22m\u001b[0m\u001b[1mo\u001b[22mn prec\u001b[0m\u001b[1mi\u001b[22msi\u001b[0m\u001b[1mo\u001b[22mn Cond\u001b[0m\u001b[1mi\u001b[22mti\u001b[0m\u001b[1mo\u001b[22mn \u001b[0m\u001b[1mi\u001b[22mnvm\u001b[0m\u001b[1mo\u001b[22md \u001b[0m\u001b[1mi\u001b[22msbl\u001b[0m\u001b[1mo\u001b[22mckdev f\u001b[0m\u001b[1mi\u001b[22mlem\u001b[0m\u001b[1mo\u001b[22mde B\u001b[0m\u001b[1mi\u001b[22mgFl\u001b[0m\u001b[1mo\u001b[22mat c\u001b[0m\u001b[1mi\u001b[22mrcc\u001b[0m\u001b[1mo\u001b[22mpy! f\u001b[0m\u001b[1mi\u001b[22meld\u001b[0m\u001b[1mo\u001b[22mffset setprec\u001b[0m\u001b[1mi\u001b[22msi\u001b[0m\u001b[1mo\u001b[22mn clear_h\u001b[0m\u001b[1mi\u001b[22mst\u001b[0m\u001b[1mo\u001b[22mry Qu\u001b[0m\u001b[1mi\u001b[22mckS\u001b[0m\u001b[1mo\u001b[22mrt part\u001b[0m\u001b[1mi\u001b[22mals\u001b[0m\u001b[1mo\u001b[22mrt part\u001b[0m\u001b[1mi\u001b[22mals\u001b[0m\u001b[1mo\u001b[22mrt! lead\u001b[0m\u001b[1mi\u001b[22mng_\u001b[0m\u001b[1mo\u001b[22mnes part\u001b[0m\u001b[1mi\u001b[22mals\u001b[0m\u001b[1mo\u001b[22mrtperm part\u001b[0m\u001b[1mi\u001b[22mals\u001b[0m\u001b[1mo\u001b[22mrtperm! denom\u001b[0m\u001b[1mi\u001b[22mnat\u001b[0m\u001b[1mo\u001b[22mr Round\u001b[0m\u001b[1mi\u001b[22mngM\u001b[0m\u001b[1mo\u001b[22mde \u001b[0m\u001b[1mi\u001b[22mszer\u001b[0m\u001b[1mo\u001b[22m \u001b[0m\u001b[1mi\u001b[22msfif\u001b[0m\u001b[1mo\u001b[22m y\u001b[0m\u001b[1mi\u001b[22meldt\u001b[0m\u001b[1mo\u001b[22m f\u001b[0m\u001b[1mi\u001b[22meldc\u001b[0m\u001b[1mo\u001b[22munt END\u001b[0m\u001b[1mI\u001b[22mAN_B\u001b[0m\u001b[1mO\u001b[22mM max\u001b[0m\u001b[1mi\u001b[22mntfl\u001b[0m\u001b[1mo\u001b[22mat Doma\u001b[0m\u001b[1mi\u001b[22mnErr\u001b[0m\u001b[1mo\u001b[22mr Subst\u001b[0m\u001b[1mi\u001b[22mtuti\u001b[0m\u001b[1mo\u001b[22mnString \u001b[0m\u001b[1mi\u001b[22msappr\u001b[0m\u001b[1mo\u001b[22mx \u001b[0m\u001b[1mI\u001b[22mterat\u001b[0m\u001b[1mo\u001b[22mrs \u001b[0m\u001b[1mI\u001b[22mrrati\u001b[0m\u001b[1mo\u001b[22mnal \u001b[0m\u001b[1mi\u001b[22msread\u001b[0m\u001b[1mo\u001b[22mnly \u001b[0m\u001b[1mi\u001b[22msdisj\u001b[0m\u001b[1mo\u001b[22mint \u001b[0m\u001b[1mi\u001b[22mssubn\u001b[0m\u001b[1mo\u001b[22mrmal B\u001b[0m\u001b[1mi\u001b[22mtVect\u001b[0m\u001b[1mo\u001b[22mr D\u001b[0m\u001b[1mi\u001b[22mmensi\u001b[0m\u001b[1mo\u001b[22mnMismatch tra\u001b[0m\u001b[1mi\u001b[22mling_\u001b[0m\u001b[1mo\u001b[22mnes \u001b[0m\u001b[1mI\u001b[22mnitErr\u001b[0m\u001b[1mo\u001b[22mr \u001b[0m\u001b[1mi\u001b[22mstaskd\u001b[0m\u001b[1mo\u001b[22mne \u001b[0m\u001b[1mI\u001b[22mnserti\u001b[0m\u001b[1mo\u001b[22mnSort Abstract\u001b[0m\u001b[1mI\u001b[22mrrati\u001b[0m\u001b[1mo\u001b[22mnal Str\u001b[0m\u001b[1mi\u001b[22mdedVec\u001b[0m\u001b[1mO\u001b[22mrMat\n",
      "\n"
     ]
    },
    {
     "data": {
      "text/latex": [
       "No documentation found.\n",
       "\n",
       "\\section{Summary}\n",
       "\\begin{verbatim}\n",
       "abstract type IO <: Any\n",
       "\\end{verbatim}\n",
       "\\section{Subtypes}\n",
       "\\begin{verbatim}\n",
       "Base.AbstractPipe\n",
       "Base.DevNull\n",
       "Base.Filesystem.AbstractFile\n",
       "Base.GenericIOBuffer\n",
       "Base.LibuvStream\n",
       "Base.SecretBuffer\n",
       "Base64.Base64DecodePipe\n",
       "Base64.Base64EncodePipe\n",
       "Core.CoreSTDERR\n",
       "Core.CoreSTDOUT\n",
       "IOStream\n",
       "JSON.Writer.StringContext\n",
       "JSON.Writer.StructuralContext\n",
       "MbedTLS.MD\n",
       "MbedTLS.SSLContext\n",
       "Mmap.Anonymous\n",
       "\\end{verbatim}\n"
      ],
      "text/markdown": [
       "No documentation found.\n",
       "\n",
       "# Summary\n",
       "\n",
       "```\n",
       "abstract type IO <: Any\n",
       "```\n",
       "\n",
       "# Subtypes\n",
       "\n",
       "```\n",
       "Base.AbstractPipe\n",
       "Base.DevNull\n",
       "Base.Filesystem.AbstractFile\n",
       "Base.GenericIOBuffer\n",
       "Base.LibuvStream\n",
       "Base.SecretBuffer\n",
       "Base64.Base64DecodePipe\n",
       "Base64.Base64EncodePipe\n",
       "Core.CoreSTDERR\n",
       "Core.CoreSTDOUT\n",
       "IOStream\n",
       "JSON.Writer.StringContext\n",
       "JSON.Writer.StructuralContext\n",
       "MbedTLS.MD\n",
       "MbedTLS.SSLContext\n",
       "Mmap.Anonymous\n",
       "```\n"
      ],
      "text/plain": [
       "  No documentation found.\n",
       "\n",
       "\u001b[1m  Summary\u001b[22m\n",
       "\u001b[1m  ≡≡≡≡≡≡≡≡≡\u001b[22m\n",
       "\n",
       "\u001b[36m  abstract type IO <: Any\u001b[39m\n",
       "\n",
       "\u001b[1m  Subtypes\u001b[22m\n",
       "\u001b[1m  ≡≡≡≡≡≡≡≡≡≡\u001b[22m\n",
       "\n",
       "\u001b[36m  Base.AbstractPipe\u001b[39m\n",
       "\u001b[36m  Base.DevNull\u001b[39m\n",
       "\u001b[36m  Base.Filesystem.AbstractFile\u001b[39m\n",
       "\u001b[36m  Base.GenericIOBuffer\u001b[39m\n",
       "\u001b[36m  Base.LibuvStream\u001b[39m\n",
       "\u001b[36m  Base.SecretBuffer\u001b[39m\n",
       "\u001b[36m  Base64.Base64DecodePipe\u001b[39m\n",
       "\u001b[36m  Base64.Base64EncodePipe\u001b[39m\n",
       "\u001b[36m  Core.CoreSTDERR\u001b[39m\n",
       "\u001b[36m  Core.CoreSTDOUT\u001b[39m\n",
       "\u001b[36m  IOStream\u001b[39m\n",
       "\u001b[36m  JSON.Writer.StringContext\u001b[39m\n",
       "\u001b[36m  JSON.Writer.StructuralContext\u001b[39m\n",
       "\u001b[36m  MbedTLS.MD\u001b[39m\n",
       "\u001b[36m  MbedTLS.SSLContext\u001b[39m\n",
       "\u001b[36m  Mmap.Anonymous\u001b[39m"
      ]
     },
     "execution_count": 21,
     "metadata": {},
     "output_type": "execute_result"
    }
   ],
   "source": [
    "?IO"
   ]
  },
  {
   "cell_type": "code",
   "execution_count": 24,
   "metadata": {},
   "outputs": [
    {
     "data": {
      "text/plain": [
       "IJulia.IJuliaStdio{Base.PipeEndpoint}"
      ]
     },
     "execution_count": 24,
     "metadata": {},
     "output_type": "execute_result"
    }
   ],
   "source": [
    "typeof(Base.stdout)"
   ]
  },
  {
   "cell_type": "code",
   "execution_count": null,
   "metadata": {},
   "outputs": [],
   "source": []
  }
 ],
 "metadata": {
  "kernelspec": {
   "display_name": "Julia 1.6.0",
   "language": "julia",
   "name": "julia-1.6"
  },
  "language_info": {
   "file_extension": ".jl",
   "mimetype": "application/julia",
   "name": "julia",
   "version": "1.6.0"
  }
 },
 "nbformat": 4,
 "nbformat_minor": 4
}
