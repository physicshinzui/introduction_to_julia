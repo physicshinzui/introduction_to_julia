{
 "cells": [
  {
   "cell_type": "markdown",
   "metadata": {},
   "source": [
    "# Factorization in Julia\n",
    "Shinji Iida 24.6.2021"
   ]
  },
  {
   "cell_type": "code",
   "execution_count": 13,
   "metadata": {},
   "outputs": [],
   "source": [
    "using LinearAlgebra\n",
    "using Plots"
   ]
  },
  {
   "cell_type": "markdown",
   "metadata": {},
   "source": [
    "## Ex 1. random matrix \n",
    "The matrix's columns are linearly independent, so "
   ]
  },
  {
   "cell_type": "code",
   "execution_count": 31,
   "metadata": {},
   "outputs": [
    {
     "data": {
      "text/plain": [
       "2×2 Matrix{Float64}:\n",
       " 0.63052   0.382316\n",
       " 0.596319  0.773878"
      ]
     },
     "execution_count": 31,
     "metadata": {},
     "output_type": "execute_result"
    }
   ],
   "source": [
    "Mr = rand(2,2)"
   ]
  },
  {
   "cell_type": "code",
   "execution_count": 32,
   "metadata": {},
   "outputs": [
    {
     "data": {
      "text/plain": [
       "LU{Float64, Tridiagonal{Float64, Vector{Float64}}}\n",
       "L factor:\n",
       "2×2 Matrix{Float64}:\n",
       " 1.0       0.0\n",
       " 0.945758  1.0\n",
       "U factor:\n",
       "2×2 Matrix{Float64}:\n",
       " 0.63052  0.382316\n",
       " 0.0      0.4123"
      ]
     },
     "execution_count": 32,
     "metadata": {},
     "output_type": "execute_result"
    }
   ],
   "source": [
    "A = factorize(Mr)"
   ]
  },
  {
   "cell_type": "code",
   "execution_count": 33,
   "metadata": {},
   "outputs": [
    {
     "data": {
      "text/plain": [
       "2×2 Matrix{Float64}:\n",
       " 0.63052  0.382316\n",
       " 0.0      0.4123"
      ]
     },
     "execution_count": 33,
     "metadata": {},
     "output_type": "execute_result"
    }
   ],
   "source": [
    "lower = A.L\n",
    "upper = A.U"
   ]
  },
  {
   "cell_type": "code",
   "execution_count": 40,
   "metadata": {},
   "outputs": [
    {
     "data": {
      "text/plain": [
       "true"
      ]
     },
     "execution_count": 40,
     "metadata": {},
     "output_type": "execute_result"
    }
   ],
   "source": [
    "lu = lower * upper\n",
    "lu == Mr"
   ]
  },
  {
   "cell_type": "markdown",
   "metadata": {},
   "source": [
    "# Ex 2. Markov Matrix\n",
    "The matrix "
   ]
  },
  {
   "cell_type": "code",
   "execution_count": 14,
   "metadata": {},
   "outputs": [
    {
     "data": {
      "text/plain": [
       "2×2 Matrix{Float64}:\n",
       " 0.1  0.3\n",
       " 0.9  0.7"
      ]
     },
     "execution_count": 14,
     "metadata": {},
     "output_type": "execute_result"
    }
   ],
   "source": [
    "M = [0.1 0.3; 0.9 0.7]"
   ]
  },
  {
   "cell_type": "code",
   "execution_count": 16,
   "metadata": {},
   "outputs": [
    {
     "ename": "LoadError",
     "evalue": "syntax: \"/\" is not a unary operator",
     "output_type": "error",
     "traceback": [
      "syntax: \"/\" is not a unary operator",
      "",
      "Stacktrace:",
      " [1] top-level scope",
      "   @ In[16]:1",
      " [2] eval",
      "   @ ./boot.jl:360 [inlined]",
      " [3] include_string(mapexpr::typeof(REPL.softscope), mod::Module, code::String, filename::String)",
      "   @ Base ./loading.jl:1094"
     ]
    }
   ],
   "source": []
  },
  {
   "cell_type": "code",
   "execution_count": 41,
   "metadata": {},
   "outputs": [
    {
     "data": {
      "text/latex": [
       "\\begin{verbatim}\n",
       "factorize(A)\n",
       "\\end{verbatim}\n",
       "Compute a convenient factorization of \\texttt{A}, based upon the type of the input matrix. \\texttt{factorize} checks \\texttt{A} to see if it is symmetric/triangular/etc. if \\texttt{A} is passed as a generic matrix. \\texttt{factorize} checks every element of \\texttt{A} to verify/rule out each property. It will short-circuit as soon as it can rule out symmetry/triangular structure. The return value can be reused for efficient solving of multiple systems. For example: \\texttt{A=factorize(A); x=A{\\textbackslash}b; y=A{\\textbackslash}C}.\n",
       "\n",
       "\\begin{tabular}\n",
       "{l | l}\n",
       "Properties of \\texttt{A} & type of factorization \\\\\n",
       "\\hline\n",
       "Positive-definite & Cholesky (see \\href{@ref}{\\texttt{cholesky}}) \\\\\n",
       "Dense Symmetric/Hermitian & Bunch-Kaufman (see \\href{@ref}{\\texttt{bunchkaufman}}) \\\\\n",
       "Sparse Symmetric/Hermitian & LDLt (see \\href{@ref}{\\texttt{ldlt}}) \\\\\n",
       "Triangular & Triangular \\\\\n",
       "Diagonal & Diagonal \\\\\n",
       "Bidiagonal & Bidiagonal \\\\\n",
       "Tridiagonal & LU (see \\href{@ref}{\\texttt{lu}}) \\\\\n",
       "Symmetric real tridiagonal & LDLt (see \\href{@ref}{\\texttt{ldlt}}) \\\\\n",
       "General square & LU (see \\href{@ref}{\\texttt{lu}}) \\\\\n",
       "General non-square & QR (see \\href{@ref}{\\texttt{qr}}) \\\\\n",
       "\\end{tabular}\n",
       "If \\texttt{factorize} is called on a Hermitian positive-definite matrix, for instance, then \\texttt{factorize} will return a Cholesky factorization.\n",
       "\n",
       "\\section{Examples}\n",
       "\\begin{verbatim}\n",
       "julia> A = Array(Bidiagonal(fill(1.0, (5, 5)), :U))\n",
       "5×5 Matrix{Float64}:\n",
       " 1.0  1.0  0.0  0.0  0.0\n",
       " 0.0  1.0  1.0  0.0  0.0\n",
       " 0.0  0.0  1.0  1.0  0.0\n",
       " 0.0  0.0  0.0  1.0  1.0\n",
       " 0.0  0.0  0.0  0.0  1.0\n",
       "\n",
       "julia> factorize(A) # factorize will check to see that A is already factorized\n",
       "5×5 Bidiagonal{Float64, Vector{Float64}}:\n",
       " 1.0  1.0   ⋅    ⋅    ⋅\n",
       "  ⋅   1.0  1.0   ⋅    ⋅\n",
       "  ⋅    ⋅   1.0  1.0   ⋅\n",
       "  ⋅    ⋅    ⋅   1.0  1.0\n",
       "  ⋅    ⋅    ⋅    ⋅   1.0\n",
       "\\end{verbatim}\n",
       "This returns a \\texttt{5×5 Bidiagonal\\{Float64\\}}, which can now be passed to other linear algebra functions (e.g. eigensolvers) which will use specialized methods for \\texttt{Bidiagonal} types.\n",
       "\n"
      ],
      "text/markdown": [
       "```\n",
       "factorize(A)\n",
       "```\n",
       "\n",
       "Compute a convenient factorization of `A`, based upon the type of the input matrix. `factorize` checks `A` to see if it is symmetric/triangular/etc. if `A` is passed as a generic matrix. `factorize` checks every element of `A` to verify/rule out each property. It will short-circuit as soon as it can rule out symmetry/triangular structure. The return value can be reused for efficient solving of multiple systems. For example: `A=factorize(A); x=A\\b; y=A\\C`.\n",
       "\n",
       "| Properties of `A`          | type of factorization                      |\n",
       "|:-------------------------- |:------------------------------------------ |\n",
       "| Positive-definite          | Cholesky (see [`cholesky`](@ref))          |\n",
       "| Dense Symmetric/Hermitian  | Bunch-Kaufman (see [`bunchkaufman`](@ref)) |\n",
       "| Sparse Symmetric/Hermitian | LDLt (see [`ldlt`](@ref))                  |\n",
       "| Triangular                 | Triangular                                 |\n",
       "| Diagonal                   | Diagonal                                   |\n",
       "| Bidiagonal                 | Bidiagonal                                 |\n",
       "| Tridiagonal                | LU (see [`lu`](@ref))                      |\n",
       "| Symmetric real tridiagonal | LDLt (see [`ldlt`](@ref))                  |\n",
       "| General square             | LU (see [`lu`](@ref))                      |\n",
       "| General non-square         | QR (see [`qr`](@ref))                      |\n",
       "\n",
       "If `factorize` is called on a Hermitian positive-definite matrix, for instance, then `factorize` will return a Cholesky factorization.\n",
       "\n",
       "# Examples\n",
       "\n",
       "```jldoctest\n",
       "julia> A = Array(Bidiagonal(fill(1.0, (5, 5)), :U))\n",
       "5×5 Matrix{Float64}:\n",
       " 1.0  1.0  0.0  0.0  0.0\n",
       " 0.0  1.0  1.0  0.0  0.0\n",
       " 0.0  0.0  1.0  1.0  0.0\n",
       " 0.0  0.0  0.0  1.0  1.0\n",
       " 0.0  0.0  0.0  0.0  1.0\n",
       "\n",
       "julia> factorize(A) # factorize will check to see that A is already factorized\n",
       "5×5 Bidiagonal{Float64, Vector{Float64}}:\n",
       " 1.0  1.0   ⋅    ⋅    ⋅\n",
       "  ⋅   1.0  1.0   ⋅    ⋅\n",
       "  ⋅    ⋅   1.0  1.0   ⋅\n",
       "  ⋅    ⋅    ⋅   1.0  1.0\n",
       "  ⋅    ⋅    ⋅    ⋅   1.0\n",
       "```\n",
       "\n",
       "This returns a `5×5 Bidiagonal{Float64}`, which can now be passed to other linear algebra functions (e.g. eigensolvers) which will use specialized methods for `Bidiagonal` types.\n"
      ],
      "text/plain": [
       "\u001b[36m  factorize(A)\u001b[39m\n",
       "\n",
       "  Compute a convenient factorization of \u001b[36mA\u001b[39m, based upon the type of the input\n",
       "  matrix. \u001b[36mfactorize\u001b[39m checks \u001b[36mA\u001b[39m to see if it is symmetric/triangular/etc. if \u001b[36mA\u001b[39m is\n",
       "  passed as a generic matrix. \u001b[36mfactorize\u001b[39m checks every element of \u001b[36mA\u001b[39m to\n",
       "  verify/rule out each property. It will short-circuit as soon as it can rule\n",
       "  out symmetry/triangular structure. The return value can be reused for\n",
       "  efficient solving of multiple systems. For example: \u001b[36mA=factorize(A); x=A\\b;\n",
       "  y=A\\C\u001b[39m.\n",
       "\n",
       "  Properties of \u001b[36mA\u001b[39m            type of factorization           \n",
       "  –––––––––––––––––––––––––– ––––––––––––––––––––––––––––––––\n",
       "  Positive-definite          Cholesky (see \u001b[36mcholesky\u001b[39m)         \n",
       "  Dense Symmetric/Hermitian  Bunch-Kaufman (see \u001b[36mbunchkaufman\u001b[39m)\n",
       "  Sparse Symmetric/Hermitian LDLt (see \u001b[36mldlt\u001b[39m)                 \n",
       "  Triangular                 Triangular                      \n",
       "  Diagonal                   Diagonal                        \n",
       "  Bidiagonal                 Bidiagonal                      \n",
       "  Tridiagonal                LU (see \u001b[36mlu\u001b[39m)                     \n",
       "  Symmetric real tridiagonal LDLt (see \u001b[36mldlt\u001b[39m)                 \n",
       "  General square             LU (see \u001b[36mlu\u001b[39m)                     \n",
       "  General non-square         QR (see \u001b[36mqr\u001b[39m)                     \n",
       "\n",
       "  If \u001b[36mfactorize\u001b[39m is called on a Hermitian positive-definite matrix, for\n",
       "  instance, then \u001b[36mfactorize\u001b[39m will return a Cholesky factorization.\n",
       "\n",
       "\u001b[1m  Examples\u001b[22m\n",
       "\u001b[1m  ≡≡≡≡≡≡≡≡≡≡\u001b[22m\n",
       "\n",
       "\u001b[36m  julia> A = Array(Bidiagonal(fill(1.0, (5, 5)), :U))\u001b[39m\n",
       "\u001b[36m  5×5 Matrix{Float64}:\u001b[39m\n",
       "\u001b[36m   1.0  1.0  0.0  0.0  0.0\u001b[39m\n",
       "\u001b[36m   0.0  1.0  1.0  0.0  0.0\u001b[39m\n",
       "\u001b[36m   0.0  0.0  1.0  1.0  0.0\u001b[39m\n",
       "\u001b[36m   0.0  0.0  0.0  1.0  1.0\u001b[39m\n",
       "\u001b[36m   0.0  0.0  0.0  0.0  1.0\u001b[39m\n",
       "\u001b[36m  \u001b[39m\n",
       "\u001b[36m  julia> factorize(A) # factorize will check to see that A is already factorized\u001b[39m\n",
       "\u001b[36m  5×5 Bidiagonal{Float64, Vector{Float64}}:\u001b[39m\n",
       "\u001b[36m   1.0  1.0   ⋅    ⋅    ⋅\u001b[39m\n",
       "\u001b[36m    ⋅   1.0  1.0   ⋅    ⋅\u001b[39m\n",
       "\u001b[36m    ⋅    ⋅   1.0  1.0   ⋅\u001b[39m\n",
       "\u001b[36m    ⋅    ⋅    ⋅   1.0  1.0\u001b[39m\n",
       "\u001b[36m    ⋅    ⋅    ⋅    ⋅   1.0\u001b[39m\n",
       "\n",
       "  This returns a \u001b[36m5×5 Bidiagonal{Float64}\u001b[39m, which can now be passed to other\n",
       "  linear algebra functions (e.g. eigensolvers) which will use specialized\n",
       "  methods for \u001b[36mBidiagonal\u001b[39m types."
      ]
     },
     "execution_count": 41,
     "metadata": {},
     "output_type": "execute_result"
    }
   ],
   "source": [
    "?factorize()"
   ]
  },
  {
   "cell_type": "code",
   "execution_count": null,
   "metadata": {},
   "outputs": [],
   "source": []
  }
 ],
 "metadata": {
  "kernelspec": {
   "display_name": "Julia 1.6.0",
   "language": "julia",
   "name": "julia-1.6"
  },
  "language_info": {
   "file_extension": ".jl",
   "mimetype": "application/julia",
   "name": "julia",
   "version": "1.6.0"
  }
 },
 "nbformat": 4,
 "nbformat_minor": 4
}
