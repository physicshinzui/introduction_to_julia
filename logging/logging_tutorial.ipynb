{
 "cells": [
  {
   "cell_type": "markdown",
   "metadata": {},
   "source": [
    "# JuliaでのLoggingのやり方\n",
    "参考文献：https://docs.julialang.org/en/v1/stdlib/Logging/#Logging"
   ]
  },
  {
   "cell_type": "markdown",
   "metadata": {},
   "source": [
    "## @warnで警告メッセージを表示"
   ]
  },
  {
   "cell_type": "code",
   "execution_count": 1,
   "metadata": {},
   "outputs": [
    {
     "name": "stderr",
     "output_type": "stream",
     "text": [
      "┌ Warning: Abandon printf debugging, all ye who enter here!\n",
      "└ @ Main In[1]:1\n"
     ]
    }
   ],
   "source": [
    "@warn \"Abandon printf debugging, all ye who enter here!\""
   ]
  },
  {
   "cell_type": "markdown",
   "metadata": {},
   "source": [
    "## @debug"
   ]
  },
  {
   "cell_type": "code",
   "execution_count": 2,
   "metadata": {},
   "outputs": [],
   "source": [
    "@debug \"The sum of some values $((sum(rand(100))))\""
   ]
  },
  {
   "cell_type": "markdown",
   "metadata": {},
   "source": [
    "@debugはデフォルトだと何も出力しない．loggingをオンにすれば出力されるし，オフにすれば出力されない．楽ちんだ．"
   ]
  },
  {
   "cell_type": "markdown",
   "metadata": {},
   "source": [
    "## loggingツールを使うとkeyとvalueのペアのセットに対して，データを繋げることができる\n",
    "例えば，以下の例．"
   ]
  },
  {
   "cell_type": "code",
   "execution_count": 3,
   "metadata": {},
   "outputs": [
    {
     "name": "stderr",
     "output_type": "stream",
     "text": [
      "┌ Info: Some variables\n",
      "│   A = [1 1 1 1; 1 1 1 1; 1 1 1 1; 1 1 1 1]\n",
      "│   s = 100.0\n",
      "└ @ Main In[3]:3\n"
     ]
    }
   ],
   "source": [
    "A = ones(Int, 4, 4)\n",
    "v = ones(100)\n",
    "@info \"Some variables\" A s=sum(v)\n",
    "#^key ^values "
   ]
  },
  {
   "cell_type": "markdown",
   "metadata": {},
   "source": [
    "@infoによって，\"Some variables\"という文字列が二つの変数Aとsを出力することができる．\n",
    "これで変数の値やプログラムの状態を簡単に確認できる．\n",
    "全てのloggingマクロ`@debug`, `@info`, `@warn`, `@errro`は共通の機能を持っている．いかにヘルプを記載する："
   ]
  },
  {
   "cell_type": "code",
   "execution_count": 4,
   "metadata": {},
   "outputs": [
    {
     "data": {
      "text/latex": [
       "\\begin{verbatim}\n",
       "@debug message  [key=value | value ...]\n",
       "@info  message  [key=value | value ...]\n",
       "@warn  message  [key=value | value ...]\n",
       "@error message  [key=value | value ...]\n",
       "\n",
       "@logmsg level message [key=value | value ...]\n",
       "\\end{verbatim}\n",
       "Create a log record with an informational \\texttt{message}.  For convenience, four logging macros \\texttt{@debug}, \\texttt{@info}, \\texttt{@warn} and \\texttt{@error} are defined which log at the standard severity levels \\texttt{Debug}, \\texttt{Info}, \\texttt{Warn} and \\texttt{Error}.  \\texttt{@logmsg} allows \\texttt{level} to be set programmatically to any \\texttt{LogLevel} or custom log level types.\n",
       "\n",
       "\\texttt{message} should be an expression which evaluates to a string which is a human readable description of the log event.  By convention, this string will be formatted as markdown when presented.\n",
       "\n",
       "The optional list of \\texttt{key=value} pairs supports arbitrary user defined metadata which will be passed through to the logging backend as part of the log record.  If only a \\texttt{value} expression is supplied, a key representing the expression will be generated using \\href{@ref}{\\texttt{Symbol}}. For example, \\texttt{x} becomes \\texttt{x=x}, and \\texttt{foo(10)} becomes \\texttt{Symbol(\"foo(10)\")=foo(10)}.  For splatting a list of key value pairs, use the normal splatting syntax, \\texttt{@info \"blah\" kws...}.\n",
       "\n",
       "There are some keys which allow automatically generated log data to be overridden:\n",
       "\n",
       "\\begin{itemize}\n",
       "\\item \\texttt{\\_module=mod} can be used to specify a different originating module from the source location of the message.\n",
       "\n",
       "\n",
       "\\item \\texttt{\\_group=symbol} can be used to override the message group (this is normally derived from the base name of the source file).\n",
       "\n",
       "\n",
       "\\item \\texttt{\\_id=symbol} can be used to override the automatically generated unique message identifier.  This is useful if you need to very closely associate messages generated on different source lines.\n",
       "\n",
       "\n",
       "\\item \\texttt{\\_file=string} and \\texttt{\\_line=integer} can be used to override the apparent source location of a log message.\n",
       "\n",
       "\\end{itemize}\n",
       "There's also some key value pairs which have conventional meaning:\n",
       "\n",
       "\\begin{itemize}\n",
       "\\item \\texttt{maxlog=integer} should be used as a hint to the backend that the message should be displayed no more than \\texttt{maxlog} times.\n",
       "\n",
       "\n",
       "\\item \\texttt{exception=ex} should be used to transport an exception with a log message, often used with \\texttt{@error}. An associated backtrace \\texttt{bt} may be attached using the tuple \\texttt{exception=(ex,bt)}.\n",
       "\n",
       "\\end{itemize}\n",
       "\\section{Examples}\n",
       "\\begin{verbatim}\n",
       "@debug \"Verbose debugging information.  Invisible by default\"\n",
       "@info  \"An informational message\"\n",
       "@warn  \"Something was odd.  You should pay attention\"\n",
       "@error \"A non fatal error occurred\"\n",
       "\n",
       "x = 10\n",
       "@info \"Some variables attached to the message\" x a=42.0\n",
       "\n",
       "@debug begin\n",
       "    sA = sum(A)\n",
       "    \"sum(A) = $sA is an expensive operation, evaluated only when `shouldlog` returns true\"\n",
       "end\n",
       "\n",
       "for i=1:10000\n",
       "    @info \"With the default backend, you will only see (i = $i) ten times\"  maxlog=10\n",
       "    @debug \"Algorithm1\" i progress=i/10000\n",
       "end\n",
       "\\end{verbatim}\n"
      ],
      "text/markdown": [
       "```\n",
       "@debug message  [key=value | value ...]\n",
       "@info  message  [key=value | value ...]\n",
       "@warn  message  [key=value | value ...]\n",
       "@error message  [key=value | value ...]\n",
       "\n",
       "@logmsg level message [key=value | value ...]\n",
       "```\n",
       "\n",
       "Create a log record with an informational `message`.  For convenience, four logging macros `@debug`, `@info`, `@warn` and `@error` are defined which log at the standard severity levels `Debug`, `Info`, `Warn` and `Error`.  `@logmsg` allows `level` to be set programmatically to any `LogLevel` or custom log level types.\n",
       "\n",
       "`message` should be an expression which evaluates to a string which is a human readable description of the log event.  By convention, this string will be formatted as markdown when presented.\n",
       "\n",
       "The optional list of `key=value` pairs supports arbitrary user defined metadata which will be passed through to the logging backend as part of the log record.  If only a `value` expression is supplied, a key representing the expression will be generated using [`Symbol`](@ref). For example, `x` becomes `x=x`, and `foo(10)` becomes `Symbol(\"foo(10)\")=foo(10)`.  For splatting a list of key value pairs, use the normal splatting syntax, `@info \"blah\" kws...`.\n",
       "\n",
       "There are some keys which allow automatically generated log data to be overridden:\n",
       "\n",
       "  * `_module=mod` can be used to specify a different originating module from the source location of the message.\n",
       "  * `_group=symbol` can be used to override the message group (this is normally derived from the base name of the source file).\n",
       "  * `_id=symbol` can be used to override the automatically generated unique message identifier.  This is useful if you need to very closely associate messages generated on different source lines.\n",
       "  * `_file=string` and `_line=integer` can be used to override the apparent source location of a log message.\n",
       "\n",
       "There's also some key value pairs which have conventional meaning:\n",
       "\n",
       "  * `maxlog=integer` should be used as a hint to the backend that the message should be displayed no more than `maxlog` times.\n",
       "  * `exception=ex` should be used to transport an exception with a log message, often used with `@error`. An associated backtrace `bt` may be attached using the tuple `exception=(ex,bt)`.\n",
       "\n",
       "# Examples\n",
       "\n",
       "```julia\n",
       "@debug \"Verbose debugging information.  Invisible by default\"\n",
       "@info  \"An informational message\"\n",
       "@warn  \"Something was odd.  You should pay attention\"\n",
       "@error \"A non fatal error occurred\"\n",
       "\n",
       "x = 10\n",
       "@info \"Some variables attached to the message\" x a=42.0\n",
       "\n",
       "@debug begin\n",
       "    sA = sum(A)\n",
       "    \"sum(A) = $sA is an expensive operation, evaluated only when `shouldlog` returns true\"\n",
       "end\n",
       "\n",
       "for i=1:10000\n",
       "    @info \"With the default backend, you will only see (i = $i) ten times\"  maxlog=10\n",
       "    @debug \"Algorithm1\" i progress=i/10000\n",
       "end\n",
       "```\n"
      ],
      "text/plain": [
       "\u001b[36m  @debug message  [key=value | value ...]\u001b[39m\n",
       "\u001b[36m  @info  message  [key=value | value ...]\u001b[39m\n",
       "\u001b[36m  @warn  message  [key=value | value ...]\u001b[39m\n",
       "\u001b[36m  @error message  [key=value | value ...]\u001b[39m\n",
       "\u001b[36m  \u001b[39m\n",
       "\u001b[36m  @logmsg level message [key=value | value ...]\u001b[39m\n",
       "\n",
       "  Create a log record with an informational \u001b[36mmessage\u001b[39m. For convenience, four logging macros \u001b[36m@debug\u001b[39m, \u001b[36m@info\u001b[39m, \u001b[36m@warn\u001b[39m and \u001b[36m@error\u001b[39m are defined which log at the standard severity levels \u001b[36mDebug\u001b[39m, \u001b[36mInfo\u001b[39m, \u001b[36mWarn\u001b[39m and \u001b[36mError\u001b[39m. \u001b[36m@logmsg\u001b[39m allows \u001b[36mlevel\u001b[39m to be set programmatically to any \u001b[36mLogLevel\u001b[39m or custom log level types.\n",
       "\n",
       "  \u001b[36mmessage\u001b[39m should be an expression which evaluates to a string which is a human readable description of the log event. By convention, this string will be formatted as markdown when presented.\n",
       "\n",
       "  The optional list of \u001b[36mkey=value\u001b[39m pairs supports arbitrary user defined metadata which will be passed through to the logging backend as part of the log record. If only a \u001b[36mvalue\u001b[39m expression is supplied, a key representing the expression will be generated using \u001b[36mSymbol\u001b[39m. For example, \u001b[36mx\u001b[39m becomes \u001b[36mx=x\u001b[39m, and \u001b[36mfoo(10)\u001b[39m becomes \u001b[36mSymbol(\"foo(10)\")=foo(10)\u001b[39m. For splatting a list of key value pairs, use the normal splatting syntax, \u001b[36m@info \"blah\" kws...\u001b[39m.\n",
       "\n",
       "  There are some keys which allow automatically generated log data to be overridden:\n",
       "\n",
       "    •  \u001b[36m_module=mod\u001b[39m can be used to specify a different originating module from the source location of the message.\n",
       "\n",
       "    •  \u001b[36m_group=symbol\u001b[39m can be used to override the message group (this is normally derived from the base name of the source file).\n",
       "\n",
       "    •  \u001b[36m_id=symbol\u001b[39m can be used to override the automatically generated unique message identifier. This is useful if you need to very closely associate messages generated on different source lines.\n",
       "\n",
       "    •  \u001b[36m_file=string\u001b[39m and \u001b[36m_line=integer\u001b[39m can be used to override the apparent source location of a log message.\n",
       "\n",
       "  There's also some key value pairs which have conventional meaning:\n",
       "\n",
       "    •  \u001b[36mmaxlog=integer\u001b[39m should be used as a hint to the backend that the message should be displayed no more than \u001b[36mmaxlog\u001b[39m times.\n",
       "\n",
       "    •  \u001b[36mexception=ex\u001b[39m should be used to transport an exception with a log message, often used with \u001b[36m@error\u001b[39m. An associated backtrace \u001b[36mbt\u001b[39m may be attached using the tuple \u001b[36mexception=(ex,bt)\u001b[39m.\n",
       "\n",
       "\u001b[1m  Examples\u001b[22m\n",
       "\u001b[1m  ≡≡≡≡≡≡≡≡≡≡\u001b[22m\n",
       "\n",
       "\u001b[36m  @debug \"Verbose debugging information.  Invisible by default\"\u001b[39m\n",
       "\u001b[36m  @info  \"An informational message\"\u001b[39m\n",
       "\u001b[36m  @warn  \"Something was odd.  You should pay attention\"\u001b[39m\n",
       "\u001b[36m  @error \"A non fatal error occurred\"\u001b[39m\n",
       "\u001b[36m  \u001b[39m\n",
       "\u001b[36m  x = 10\u001b[39m\n",
       "\u001b[36m  @info \"Some variables attached to the message\" x a=42.0\u001b[39m\n",
       "\u001b[36m  \u001b[39m\n",
       "\u001b[36m  @debug begin\u001b[39m\n",
       "\u001b[36m      sA = sum(A)\u001b[39m\n",
       "\u001b[36m      \"sum(A) = $sA is an expensive operation, evaluated only when `shouldlog` returns true\"\u001b[39m\n",
       "\u001b[36m  end\u001b[39m\n",
       "\u001b[36m  \u001b[39m\n",
       "\u001b[36m  for i=1:10000\u001b[39m\n",
       "\u001b[36m      @info \"With the default backend, you will only see (i = $i) ten times\"  maxlog=10\u001b[39m\n",
       "\u001b[36m      @debug \"Algorithm1\" i progress=i/10000\u001b[39m\n",
       "\u001b[36m  end\u001b[39m"
      ]
     },
     "execution_count": 4,
     "metadata": {},
     "output_type": "execute_result"
    }
   ],
   "source": [
    "?@info"
   ]
  },
  {
   "cell_type": "markdown",
   "metadata": {},
   "source": [
    "## ログをファイルに書き込む"
   ]
  },
  {
   "cell_type": "code",
   "execution_count": 5,
   "metadata": {},
   "outputs": [],
   "source": [
    "using Logging\n",
    "io = open(\"log.txt\", \"w+\")\n",
    "logger = SimpleLogger(io)\n",
    "with_logger(logger) do \n",
    "    @info \"a context specific log message\"\n",
    "end\n",
    "flush(io)\n",
    "global_logger(logger)\n",
    "@info \"a global log message\"\n",
    "close(io)"
   ]
  }
 ],
 "metadata": {
  "kernelspec": {
   "display_name": "Julia 1.6.0",
   "language": "julia",
   "name": "julia-1.6"
  },
  "language_info": {
   "file_extension": ".jl",
   "mimetype": "application/julia",
   "name": "julia",
   "version": "1.6.0"
  }
 },
 "nbformat": 4,
 "nbformat_minor": 4
}
