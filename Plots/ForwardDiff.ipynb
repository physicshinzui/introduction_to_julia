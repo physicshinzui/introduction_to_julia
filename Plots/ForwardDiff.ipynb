{
 "cells": [
  {
   "cell_type": "markdown",
   "metadata": {},
   "source": [
    "# How to use ForwardDiff in Julia \n",
    "- Author: Shinji Iida\n",
    "- Date: 26.6.2021"
   ]
  },
  {
   "cell_type": "code",
   "execution_count": 19,
   "metadata": {},
   "outputs": [
    {
     "data": {
      "text/plain": [
       "v\"1.6.0\""
      ]
     },
     "execution_count": 19,
     "metadata": {},
     "output_type": "execute_result"
    }
   ],
   "source": [
    "VERSION"
   ]
  },
  {
   "cell_type": "code",
   "execution_count": 24,
   "metadata": {},
   "outputs": [],
   "source": [
    "using ForwardDiff\n",
    "using Plots"
   ]
  },
  {
   "cell_type": "markdown",
   "metadata": {},
   "source": [
    "Have a look at the help:"
   ]
  },
  {
   "cell_type": "code",
   "execution_count": 25,
   "metadata": {},
   "outputs": [
    {
     "data": {
      "text/latex": [
       "\\begin{verbatim}\n",
       "ForwardDiff.gradient(f, x::AbstractArray, cfg::GradientConfig = GradientConfig(f, x), check=Val{true}())\n",
       "\\end{verbatim}\n",
       "Return \\texttt{∇f} evaluated at \\texttt{x}, assuming \\texttt{f} is called as \\texttt{f(x)}. The array \\texttt{∇f} has the same shape as \\texttt{x}, and its elements are \\texttt{∇f[j, k, ...] = ∂f/∂x[j, k, ...]}.\n",
       "\n",
       "This method assumes that \\texttt{isa(f(x), Real)}.\n",
       "\n",
       "Set \\texttt{check} to \\texttt{Val\\{false\\}()} to disable tag checking. This can lead to perturbation confusion, so should be used with care.\n",
       "\n"
      ],
      "text/markdown": [
       "```\n",
       "ForwardDiff.gradient(f, x::AbstractArray, cfg::GradientConfig = GradientConfig(f, x), check=Val{true}())\n",
       "```\n",
       "\n",
       "Return `∇f` evaluated at `x`, assuming `f` is called as `f(x)`. The array `∇f` has the same shape as `x`, and its elements are `∇f[j, k, ...] = ∂f/∂x[j, k, ...]`.\n",
       "\n",
       "This method assumes that `isa(f(x), Real)`.\n",
       "\n",
       "Set `check` to `Val{false}()` to disable tag checking. This can lead to perturbation confusion, so should be used with care.\n"
      ],
      "text/plain": [
       "\u001b[36m  ForwardDiff.gradient(f, x::AbstractArray, cfg::GradientConfig = GradientConfig(f, x), check=Val{true}())\u001b[39m\n",
       "\n",
       "  Return \u001b[36m∇f\u001b[39m evaluated at \u001b[36mx\u001b[39m, assuming \u001b[36mf\u001b[39m is called as \u001b[36mf(x)\u001b[39m. The array \u001b[36m∇f\u001b[39m has the\n",
       "  same shape as \u001b[36mx\u001b[39m, and its elements are \u001b[36m∇f[j, k, ...] = ∂f/∂x[j, k, ...]\u001b[39m.\n",
       "\n",
       "  This method assumes that \u001b[36misa(f(x), Real)\u001b[39m.\n",
       "\n",
       "  Set \u001b[36mcheck\u001b[39m to \u001b[36mVal{false}()\u001b[39m to disable tag checking. This can lead to\n",
       "  perturbation confusion, so should be used with care."
      ]
     },
     "execution_count": 25,
     "metadata": {},
     "output_type": "execute_result"
    }
   ],
   "source": [
    "?ForwardDiff.gradient()"
   ]
  },
  {
   "cell_type": "code",
   "execution_count": null,
   "metadata": {},
   "outputs": [],
   "source": []
  },
  {
   "cell_type": "markdown",
   "metadata": {},
   "source": [
    "## Ex 1. f(x) =  x^2"
   ]
  },
  {
   "cell_type": "code",
   "execution_count": 50,
   "metadata": {},
   "outputs": [
    {
     "ename": "LoadError",
     "evalue": "TypeError: in Type, in parameter, expected Type, got a value of type Vector{Int64}",
     "output_type": "error",
     "traceback": [
      "TypeError: in Type, in parameter, expected Type, got a value of type Vector{Int64}",
      "",
      "Stacktrace:",
      " [1] top-level scope",
      "   @ In[50]:2",
      " [2] eval",
      "   @ ./boot.jl:360 [inlined]",
      " [3] include_string(mapexpr::typeof(REPL.softscope), mod::Module, code::String, filename::String)",
      "   @ Base ./loading.jl:1094"
     ]
    }
   ],
   "source": [
    "f(x::Vector) = x^2\n",
    "x = Array{Int64}{[xi for xi in -3:3]}\n",
    "#f(x)"
   ]
  },
  {
   "cell_type": "code",
   "execution_count": 32,
   "metadata": {},
   "outputs": [
    {
     "data": {
      "image/svg+xml": [
       "<?xml version=\"1.0\" encoding=\"utf-8\"?>\n",
       "<svg xmlns=\"http://www.w3.org/2000/svg\" xmlns:xlink=\"http://www.w3.org/1999/xlink\" width=\"600\" height=\"400\" viewBox=\"0 0 2400 1600\">\n",
       "<defs>\n",
       "  <clipPath id=\"clip9200\">\n",
       "    <rect x=\"0\" y=\"0\" width=\"2400\" height=\"1600\"/>\n",
       "  </clipPath>\n",
       "</defs>\n",
       "<path clip-path=\"url(#clip9200)\" d=\"\n",
       "M0 1600 L2400 1600 L2400 0 L0 0  Z\n",
       "  \" fill=\"#ffffff\" fill-rule=\"evenodd\" fill-opacity=\"1\"/>\n",
       "<defs>\n",
       "  <clipPath id=\"clip9201\">\n",
       "    <rect x=\"480\" y=\"0\" width=\"1681\" height=\"1600\"/>\n",
       "  </clipPath>\n",
       "</defs>\n",
       "<path clip-path=\"url(#clip9200)\" d=\"\n",
       "M135.95 1486.45 L2352.76 1486.45 L2352.76 47.2441 L135.95 47.2441  Z\n",
       "  \" fill=\"#ffffff\" fill-rule=\"evenodd\" fill-opacity=\"1\"/>\n",
       "<defs>\n",
       "  <clipPath id=\"clip9202\">\n",
       "    <rect x=\"135\" y=\"47\" width=\"2218\" height=\"1440\"/>\n",
       "  </clipPath>\n",
       "</defs>\n",
       "<polyline clip-path=\"url(#clip9202)\" style=\"stroke:#000000; stroke-width:2; stroke-opacity:0.1; fill:none\" points=\"\n",
       "  407.823,1486.45 407.823,47.2441 \n",
       "  \"/>\n",
       "<polyline clip-path=\"url(#clip9202)\" style=\"stroke:#000000; stroke-width:2; stroke-opacity:0.1; fill:none\" points=\"\n",
       "  826.088,1486.45 826.088,47.2441 \n",
       "  \"/>\n",
       "<polyline clip-path=\"url(#clip9202)\" style=\"stroke:#000000; stroke-width:2; stroke-opacity:0.1; fill:none\" points=\"\n",
       "  1244.35,1486.45 1244.35,47.2441 \n",
       "  \"/>\n",
       "<polyline clip-path=\"url(#clip9202)\" style=\"stroke:#000000; stroke-width:2; stroke-opacity:0.1; fill:none\" points=\"\n",
       "  1662.62,1486.45 1662.62,47.2441 \n",
       "  \"/>\n",
       "<polyline clip-path=\"url(#clip9202)\" style=\"stroke:#000000; stroke-width:2; stroke-opacity:0.1; fill:none\" points=\"\n",
       "  2080.88,1486.45 2080.88,47.2441 \n",
       "  \"/>\n",
       "<polyline clip-path=\"url(#clip9202)\" style=\"stroke:#000000; stroke-width:2; stroke-opacity:0.1; fill:none\" points=\"\n",
       "  135.95,1445.72 2352.76,1445.72 \n",
       "  \"/>\n",
       "<polyline clip-path=\"url(#clip9202)\" style=\"stroke:#000000; stroke-width:2; stroke-opacity:0.1; fill:none\" points=\"\n",
       "  135.95,1174.17 2352.76,1174.17 \n",
       "  \"/>\n",
       "<polyline clip-path=\"url(#clip9202)\" style=\"stroke:#000000; stroke-width:2; stroke-opacity:0.1; fill:none\" points=\"\n",
       "  135.95,902.62 2352.76,902.62 \n",
       "  \"/>\n",
       "<polyline clip-path=\"url(#clip9202)\" style=\"stroke:#000000; stroke-width:2; stroke-opacity:0.1; fill:none\" points=\"\n",
       "  135.95,631.072 2352.76,631.072 \n",
       "  \"/>\n",
       "<polyline clip-path=\"url(#clip9202)\" style=\"stroke:#000000; stroke-width:2; stroke-opacity:0.1; fill:none\" points=\"\n",
       "  135.95,359.524 2352.76,359.524 \n",
       "  \"/>\n",
       "<polyline clip-path=\"url(#clip9202)\" style=\"stroke:#000000; stroke-width:2; stroke-opacity:0.1; fill:none\" points=\"\n",
       "  135.95,87.9763 2352.76,87.9763 \n",
       "  \"/>\n",
       "<polyline clip-path=\"url(#clip9200)\" style=\"stroke:#000000; stroke-width:4; stroke-opacity:1; fill:none\" points=\"\n",
       "  135.95,1486.45 2352.76,1486.45 \n",
       "  \"/>\n",
       "<polyline clip-path=\"url(#clip9200)\" style=\"stroke:#000000; stroke-width:4; stroke-opacity:1; fill:none\" points=\"\n",
       "  135.95,1486.45 135.95,47.2441 \n",
       "  \"/>\n",
       "<polyline clip-path=\"url(#clip9200)\" style=\"stroke:#000000; stroke-width:4; stroke-opacity:1; fill:none\" points=\"\n",
       "  407.823,1486.45 407.823,1469.18 \n",
       "  \"/>\n",
       "<polyline clip-path=\"url(#clip9200)\" style=\"stroke:#000000; stroke-width:4; stroke-opacity:1; fill:none\" points=\"\n",
       "  826.088,1486.45 826.088,1469.18 \n",
       "  \"/>\n",
       "<polyline clip-path=\"url(#clip9200)\" style=\"stroke:#000000; stroke-width:4; stroke-opacity:1; fill:none\" points=\"\n",
       "  1244.35,1486.45 1244.35,1469.18 \n",
       "  \"/>\n",
       "<polyline clip-path=\"url(#clip9200)\" style=\"stroke:#000000; stroke-width:4; stroke-opacity:1; fill:none\" points=\"\n",
       "  1662.62,1486.45 1662.62,1469.18 \n",
       "  \"/>\n",
       "<polyline clip-path=\"url(#clip9200)\" style=\"stroke:#000000; stroke-width:4; stroke-opacity:1; fill:none\" points=\"\n",
       "  2080.88,1486.45 2080.88,1469.18 \n",
       "  \"/>\n",
       "<polyline clip-path=\"url(#clip9200)\" style=\"stroke:#000000; stroke-width:4; stroke-opacity:1; fill:none\" points=\"\n",
       "  135.95,1445.72 162.552,1445.72 \n",
       "  \"/>\n",
       "<polyline clip-path=\"url(#clip9200)\" style=\"stroke:#000000; stroke-width:4; stroke-opacity:1; fill:none\" points=\"\n",
       "  135.95,1174.17 162.552,1174.17 \n",
       "  \"/>\n",
       "<polyline clip-path=\"url(#clip9200)\" style=\"stroke:#000000; stroke-width:4; stroke-opacity:1; fill:none\" points=\"\n",
       "  135.95,902.62 162.552,902.62 \n",
       "  \"/>\n",
       "<polyline clip-path=\"url(#clip9200)\" style=\"stroke:#000000; stroke-width:4; stroke-opacity:1; fill:none\" points=\"\n",
       "  135.95,631.072 162.552,631.072 \n",
       "  \"/>\n",
       "<polyline clip-path=\"url(#clip9200)\" style=\"stroke:#000000; stroke-width:4; stroke-opacity:1; fill:none\" points=\"\n",
       "  135.95,359.524 162.552,359.524 \n",
       "  \"/>\n",
       "<polyline clip-path=\"url(#clip9200)\" style=\"stroke:#000000; stroke-width:4; stroke-opacity:1; fill:none\" points=\"\n",
       "  135.95,87.9763 162.552,87.9763 \n",
       "  \"/>\n",
       "<path clip-path=\"url(#clip9200)\" d=\"M 0 0 M387.834 1525.04 L400.311 1525.04 L400.311 1528.83 L387.834 1528.83 L387.834 1525.04 Z\" fill=\"#000000\" fill-rule=\"evenodd\" fill-opacity=\"1\" /><path clip-path=\"url(#clip9200)\" d=\"M 0 0 M418.228 1509.43 L406.422 1527.88 L418.228 1527.88 L418.228 1509.43 M417.001 1505.36 L422.88 1505.36 L422.88 1527.88 L427.811 1527.88 L427.811 1531.77 L422.88 1531.77 L422.88 1539.92 L418.228 1539.92 L418.228 1531.77 L402.626 1531.77 L402.626 1527.26 L417.001 1505.36 Z\" fill=\"#000000\" fill-rule=\"evenodd\" fill-opacity=\"1\" /><path clip-path=\"url(#clip9200)\" d=\"M 0 0 M807.141 1525.04 L819.618 1525.04 L819.618 1528.83 L807.141 1528.83 L807.141 1525.04 Z\" fill=\"#000000\" fill-rule=\"evenodd\" fill-opacity=\"1\" /><path clip-path=\"url(#clip9200)\" d=\"M 0 0 M828.715 1535.98 L845.034 1535.98 L845.034 1539.92 L823.09 1539.92 L823.09 1535.98 Q825.752 1533.23 830.335 1528.6 Q834.942 1523.95 836.122 1522.61 Q838.368 1520.08 839.247 1518.35 Q840.15 1516.59 840.15 1514.9 Q840.15 1512.14 838.206 1510.41 Q836.285 1508.67 833.183 1508.67 Q830.984 1508.67 828.53 1509.43 Q826.099 1510.2 823.322 1511.75 L823.322 1507.03 Q826.146 1505.89 828.599 1505.31 Q831.053 1504.73 833.09 1504.73 Q838.46 1504.73 841.655 1507.42 Q844.849 1510.11 844.849 1514.6 Q844.849 1516.73 844.039 1518.65 Q843.252 1520.54 841.146 1523.14 Q840.567 1523.81 837.465 1527.03 Q834.363 1530.22 828.715 1535.98 Z\" fill=\"#000000\" fill-rule=\"evenodd\" fill-opacity=\"1\" /><path clip-path=\"url(#clip9200)\" d=\"M 0 0 M1244.35 1508.44 Q1240.74 1508.44 1238.91 1512 Q1237.11 1515.55 1237.11 1522.67 Q1237.11 1529.78 1238.91 1533.35 Q1240.74 1536.89 1244.35 1536.89 Q1247.99 1536.89 1249.79 1533.35 Q1251.62 1529.78 1251.62 1522.67 Q1251.62 1515.55 1249.79 1512 Q1247.99 1508.44 1244.35 1508.44 M1244.35 1504.73 Q1250.16 1504.73 1253.22 1509.34 Q1256.3 1513.92 1256.3 1522.67 Q1256.3 1531.4 1253.22 1536.01 Q1250.16 1540.59 1244.35 1540.59 Q1238.54 1540.59 1235.46 1536.01 Q1232.41 1531.4 1232.41 1522.67 Q1232.41 1513.92 1235.46 1509.34 Q1238.54 1504.73 1244.35 1504.73 Z\" fill=\"#000000\" fill-rule=\"evenodd\" fill-opacity=\"1\" /><path clip-path=\"url(#clip9200)\" d=\"M 0 0 M1657.27 1535.98 L1673.59 1535.98 L1673.59 1539.92 L1651.65 1539.92 L1651.65 1535.98 Q1654.31 1533.23 1658.89 1528.6 Q1663.5 1523.95 1664.68 1522.61 Q1666.92 1520.08 1667.8 1518.35 Q1668.71 1516.59 1668.71 1514.9 Q1668.71 1512.14 1666.76 1510.41 Q1664.84 1508.67 1661.74 1508.67 Q1659.54 1508.67 1657.09 1509.43 Q1654.66 1510.2 1651.88 1511.75 L1651.88 1507.03 Q1654.7 1505.89 1657.16 1505.31 Q1659.61 1504.73 1661.65 1504.73 Q1667.02 1504.73 1670.21 1507.42 Q1673.41 1510.11 1673.41 1514.6 Q1673.41 1516.73 1672.6 1518.65 Q1671.81 1520.54 1669.7 1523.14 Q1669.12 1523.81 1666.02 1527.03 Q1662.92 1530.22 1657.27 1535.98 Z\" fill=\"#000000\" fill-rule=\"evenodd\" fill-opacity=\"1\" /><path clip-path=\"url(#clip9200)\" d=\"M 0 0 M2083.89 1509.43 L2072.09 1527.88 L2083.89 1527.88 L2083.89 1509.43 M2082.67 1505.36 L2088.55 1505.36 L2088.55 1527.88 L2093.48 1527.88 L2093.48 1531.77 L2088.55 1531.77 L2088.55 1539.92 L2083.89 1539.92 L2083.89 1531.77 L2068.29 1531.77 L2068.29 1527.26 L2082.67 1505.36 Z\" fill=\"#000000\" fill-rule=\"evenodd\" fill-opacity=\"1\" /><path clip-path=\"url(#clip9200)\" d=\"M 0 0 M100.006 1431.51 Q96.3947 1431.51 94.566 1435.08 Q92.7605 1438.62 92.7605 1445.75 Q92.7605 1452.86 94.566 1456.42 Q96.3947 1459.96 100.006 1459.96 Q103.64 1459.96 105.446 1456.42 Q107.274 1452.86 107.274 1445.75 Q107.274 1438.62 105.446 1435.08 Q103.64 1431.51 100.006 1431.51 M100.006 1427.81 Q105.816 1427.81 108.872 1432.42 Q111.95 1437 111.95 1445.75 Q111.95 1454.48 108.872 1459.08 Q105.816 1463.67 100.006 1463.67 Q94.1957 1463.67 91.117 1459.08 Q88.0614 1454.48 88.0614 1445.75 Q88.0614 1437 91.117 1432.42 Q94.1957 1427.81 100.006 1427.81 Z\" fill=\"#000000\" fill-rule=\"evenodd\" fill-opacity=\"1\" /><path clip-path=\"url(#clip9200)\" d=\"M 0 0 M91.0475 1156.89 L109.404 1156.89 L109.404 1160.82 L95.3299 1160.82 L95.3299 1169.3 Q96.3484 1168.95 97.3669 1168.79 Q98.3855 1168.6 99.404 1168.6 Q105.191 1168.6 108.571 1171.77 Q111.95 1174.94 111.95 1180.36 Q111.95 1185.94 108.478 1189.04 Q105.006 1192.12 98.6864 1192.12 Q96.5105 1192.12 94.242 1191.75 Q91.9966 1191.38 89.5892 1190.64 L89.5892 1185.94 Q91.6725 1187.07 93.8947 1187.63 Q96.1169 1188.18 98.5938 1188.18 Q102.598 1188.18 104.936 1186.08 Q107.274 1183.97 107.274 1180.36 Q107.274 1176.75 104.936 1174.64 Q102.598 1172.54 98.5938 1172.54 Q96.7188 1172.54 94.8438 1172.95 Q92.992 1173.37 91.0475 1174.25 L91.0475 1156.89 Z\" fill=\"#000000\" fill-rule=\"evenodd\" fill-opacity=\"1\" /><path clip-path=\"url(#clip9200)\" d=\"M 0 0 M65.0292 915.965 L72.668 915.965 L72.668 889.599 L64.3579 891.266 L64.3579 887.007 L72.6217 885.34 L77.2976 885.34 L77.2976 915.965 L84.9365 915.965 L84.9365 919.9 L65.0292 919.9 L65.0292 915.965 Z\" fill=\"#000000\" fill-rule=\"evenodd\" fill-opacity=\"1\" /><path clip-path=\"url(#clip9200)\" d=\"M 0 0 M100.006 888.419 Q96.3947 888.419 94.566 891.983 Q92.7605 895.525 92.7605 902.655 Q92.7605 909.761 94.566 913.326 Q96.3947 916.868 100.006 916.868 Q103.64 916.868 105.446 913.326 Q107.274 909.761 107.274 902.655 Q107.274 895.525 105.446 891.983 Q103.64 888.419 100.006 888.419 M100.006 884.715 Q105.816 884.715 108.872 889.321 Q111.95 893.905 111.95 902.655 Q111.95 911.381 108.872 915.988 Q105.816 920.571 100.006 920.571 Q94.1957 920.571 91.117 915.988 Q88.0614 911.381 88.0614 902.655 Q88.0614 893.905 91.117 889.321 Q94.1957 884.715 100.006 884.715 Z\" fill=\"#000000\" fill-rule=\"evenodd\" fill-opacity=\"1\" /><path clip-path=\"url(#clip9200)\" d=\"M 0 0 M66.0245 644.417 L73.6634 644.417 L73.6634 618.051 L65.3532 619.718 L65.3532 615.459 L73.6171 613.792 L78.293 613.792 L78.293 644.417 L85.9318 644.417 L85.9318 648.352 L66.0245 648.352 L66.0245 644.417 Z\" fill=\"#000000\" fill-rule=\"evenodd\" fill-opacity=\"1\" /><path clip-path=\"url(#clip9200)\" d=\"M 0 0 M91.0475 613.792 L109.404 613.792 L109.404 617.727 L95.3299 617.727 L95.3299 626.199 Q96.3484 625.852 97.3669 625.69 Q98.3855 625.505 99.404 625.505 Q105.191 625.505 108.571 628.676 Q111.95 631.848 111.95 637.264 Q111.95 642.843 108.478 645.945 Q105.006 649.023 98.6864 649.023 Q96.5105 649.023 94.242 648.653 Q91.9966 648.283 89.5892 647.542 L89.5892 642.843 Q91.6725 643.977 93.8947 644.533 Q96.1169 645.088 98.5938 645.088 Q102.598 645.088 104.936 642.982 Q107.274 640.875 107.274 637.264 Q107.274 633.653 104.936 631.547 Q102.598 629.44 98.5938 629.44 Q96.7188 629.44 94.8438 629.857 Q92.992 630.273 91.0475 631.153 L91.0475 613.792 Z\" fill=\"#000000\" fill-rule=\"evenodd\" fill-opacity=\"1\" /><path clip-path=\"url(#clip9200)\" d=\"M 0 0 M68.6171 372.869 L84.9365 372.869 L84.9365 376.804 L62.9921 376.804 L62.9921 372.869 Q65.6541 370.114 70.2375 365.485 Q74.8439 360.832 76.0245 359.489 Q78.2698 356.966 79.1494 355.23 Q80.0522 353.471 80.0522 351.781 Q80.0522 349.027 78.1078 347.29 Q76.1865 345.554 73.0847 345.554 Q70.8856 345.554 68.4319 346.318 Q66.0014 347.082 63.2236 348.633 L63.2236 343.911 Q66.0477 342.777 68.5014 342.198 Q70.955 341.619 72.9921 341.619 Q78.3624 341.619 81.5568 344.304 Q84.7513 346.99 84.7513 351.48 Q84.7513 353.61 83.9411 355.531 Q83.1541 357.429 81.0476 360.022 Q80.4689 360.693 77.367 363.911 Q74.2652 367.105 68.6171 372.869 Z\" fill=\"#000000\" fill-rule=\"evenodd\" fill-opacity=\"1\" /><path clip-path=\"url(#clip9200)\" d=\"M 0 0 M100.006 345.323 Q96.3947 345.323 94.566 348.888 Q92.7605 352.429 92.7605 359.559 Q92.7605 366.665 94.566 370.23 Q96.3947 373.772 100.006 373.772 Q103.64 373.772 105.446 370.23 Q107.274 366.665 107.274 359.559 Q107.274 352.429 105.446 348.888 Q103.64 345.323 100.006 345.323 M100.006 341.619 Q105.816 341.619 108.872 346.226 Q111.95 350.809 111.95 359.559 Q111.95 368.286 108.872 372.892 Q105.816 377.475 100.006 377.475 Q94.1957 377.475 91.117 372.892 Q88.0614 368.286 88.0614 359.559 Q88.0614 350.809 91.117 346.226 Q94.1957 341.619 100.006 341.619 Z\" fill=\"#000000\" fill-rule=\"evenodd\" fill-opacity=\"1\" /><path clip-path=\"url(#clip9200)\" d=\"M 0 0 M69.6125 101.321 L85.9318 101.321 L85.9318 105.256 L63.9875 105.256 L63.9875 101.321 Q66.6495 98.5665 71.2328 93.9369 Q75.8393 89.2841 77.0198 87.9416 Q79.2652 85.4184 80.1448 83.6823 Q81.0476 81.9231 81.0476 80.2333 Q81.0476 77.4786 79.1032 75.7425 Q77.1819 74.0064 74.08 74.0064 Q71.881 74.0064 69.4273 74.7703 Q66.9967 75.5342 64.219 77.0851 L64.219 72.3629 Q67.043 71.2287 69.4967 70.65 Q71.9504 70.0713 73.9874 70.0713 Q79.3578 70.0713 82.5522 72.7565 Q85.7466 75.4416 85.7466 79.9323 Q85.7466 82.062 84.9365 83.9832 Q84.1494 85.8814 82.0429 88.474 Q81.4642 89.1453 78.3624 92.3628 Q75.2606 95.5573 69.6125 101.321 Z\" fill=\"#000000\" fill-rule=\"evenodd\" fill-opacity=\"1\" /><path clip-path=\"url(#clip9200)\" d=\"M 0 0 M91.0475 70.6963 L109.404 70.6963 L109.404 74.6314 L95.3299 74.6314 L95.3299 83.1036 Q96.3484 82.7564 97.3669 82.5944 Q98.3855 82.4092 99.404 82.4092 Q105.191 82.4092 108.571 85.5805 Q111.95 88.7517 111.95 94.1684 Q111.95 99.747 108.478 102.849 Q105.006 105.928 98.6864 105.928 Q96.5105 105.928 94.242 105.557 Q91.9966 105.187 89.5892 104.446 L89.5892 99.747 Q91.6725 100.881 93.8947 101.437 Q96.1169 101.992 98.5938 101.992 Q102.598 101.992 104.936 99.8859 Q107.274 97.7795 107.274 94.1684 Q107.274 90.5573 104.936 88.4508 Q102.598 86.3443 98.5938 86.3443 Q96.7188 86.3443 94.8438 86.761 Q92.992 87.1777 91.0475 88.0573 L91.0475 70.6963 Z\" fill=\"#000000\" fill-rule=\"evenodd\" fill-opacity=\"1\" /><polyline clip-path=\"url(#clip9202)\" style=\"stroke:#009af9; stroke-width:4; stroke-opacity:1; fill:none\" points=\"\n",
       "  198.69,87.9763 219.603,141.743 240.517,194.423 261.43,246.017 282.343,296.525 303.256,345.947 324.17,394.282 345.083,441.532 365.996,487.695 386.909,532.772 \n",
       "  407.823,576.762 428.736,619.667 449.649,661.485 470.562,702.218 491.476,741.864 512.389,780.423 533.302,817.897 554.215,854.284 575.129,889.586 596.042,923.801 \n",
       "  616.955,956.93 637.868,988.972 658.782,1019.93 679.695,1049.8 700.608,1078.58 721.522,1106.28 742.435,1132.89 763.348,1158.42 784.261,1182.86 805.175,1206.21 \n",
       "  826.088,1228.48 847.001,1249.66 867.914,1269.75 888.828,1288.76 909.741,1306.68 930.654,1323.52 951.567,1339.27 972.481,1353.93 993.394,1367.51 1014.31,1380 \n",
       "  1035.22,1391.41 1056.13,1401.72 1077.05,1410.96 1097.96,1419.1 1118.87,1426.16 1139.79,1432.14 1160.7,1437.03 1181.61,1440.83 1202.53,1443.54 1223.44,1445.17 \n",
       "  1244.35,1445.72 1265.27,1445.17 1286.18,1443.54 1307.09,1440.83 1328.01,1437.03 1348.92,1432.14 1369.83,1426.16 1390.75,1419.1 1411.66,1410.96 1432.57,1401.72 \n",
       "  1453.49,1391.41 1474.4,1380 1495.31,1367.51 1516.23,1353.93 1537.14,1339.27 1558.05,1323.52 1578.97,1306.68 1599.88,1288.76 1620.79,1269.75 1641.71,1249.66 \n",
       "  1662.62,1228.48 1683.53,1206.21 1704.44,1182.86 1725.36,1158.42 1746.27,1132.89 1767.18,1106.28 1788.1,1078.58 1809.01,1049.8 1829.92,1019.93 1850.84,988.972 \n",
       "  1871.75,956.93 1892.66,923.801 1913.58,889.586 1934.49,854.284 1955.4,817.897 1976.32,780.423 1997.23,741.864 2018.14,702.218 2039.06,661.485 2059.97,619.667 \n",
       "  2080.88,576.762 2101.8,532.772 2122.71,487.695 2143.62,441.532 2164.54,394.282 2185.45,345.947 2206.36,296.525 2227.28,246.017 2248.19,194.423 2269.1,141.743 \n",
       "  2290.02,87.9763 \n",
       "  \"/>\n",
       "<path clip-path=\"url(#clip9200)\" d=\"\n",
       "M1989.74 251.724 L2280.76 251.724 L2280.76 130.764 L1989.74 130.764  Z\n",
       "  \" fill=\"#ffffff\" fill-rule=\"evenodd\" fill-opacity=\"1\"/>\n",
       "<polyline clip-path=\"url(#clip9200)\" style=\"stroke:#000000; stroke-width:4; stroke-opacity:1; fill:none\" points=\"\n",
       "  1989.74,251.724 2280.76,251.724 2280.76,130.764 1989.74,130.764 1989.74,251.724 \n",
       "  \"/>\n",
       "<polyline clip-path=\"url(#clip9200)\" style=\"stroke:#009af9; stroke-width:4; stroke-opacity:1; fill:none\" points=\"\n",
       "  2013.74,191.244 2157.74,191.244 \n",
       "  \"/>\n",
       "<path clip-path=\"url(#clip9200)\" d=\"M 0 0 M2195.58 210.931 Q2193.77 215.561 2192.06 216.973 Q2190.35 218.385 2187.48 218.385 L2184.08 218.385 L2184.08 214.82 L2186.58 214.82 Q2188.33 214.82 2189.31 213.987 Q2190.28 213.154 2191.46 210.052 L2192.22 208.107 L2181.74 182.598 L2186.25 182.598 L2194.35 202.876 L2202.46 182.598 L2206.97 182.598 L2195.58 210.931 Z\" fill=\"#000000\" fill-rule=\"evenodd\" fill-opacity=\"1\" /><path clip-path=\"url(#clip9200)\" d=\"M 0 0 M2212.85 204.589 L2220.49 204.589 L2220.49 178.223 L2212.18 179.89 L2212.18 175.631 L2220.44 173.964 L2225.12 173.964 L2225.12 204.589 L2232.76 204.589 L2232.76 208.524 L2212.85 208.524 L2212.85 204.589 Z\" fill=\"#000000\" fill-rule=\"evenodd\" fill-opacity=\"1\" /></svg>\n"
      ]
     },
     "execution_count": 32,
     "metadata": {},
     "output_type": "execute_result"
    }
   ],
   "source": [
    "x = -5:0.1:5\n",
    "y = [f(xi) for xi in x]\n",
    "y = map(f, x)\n",
    "plot(x, y)"
   ]
  },
  {
   "cell_type": "code",
   "execution_count": 39,
   "metadata": {},
   "outputs": [
    {
     "ename": "LoadError",
     "evalue": "MethodError: no method matching ^(::Vector{ForwardDiff.Dual{ForwardDiff.Tag{typeof(f), Float64}, Float64, 12}}, ::Int64)\n\u001b[0mClosest candidates are:\n\u001b[0m  ^(\u001b[91m::Union{AbstractChar, AbstractString}\u001b[39m, ::Integer) at strings/basic.jl:718\n\u001b[0m  ^(\u001b[91m::LinearAlgebra.Symmetric{var\"#s832\", S} where {var\"#s832\"<:Real, S<:(AbstractMatrix{var\"#s832\"} where var\"#s832\"<:var\"#s832\")}\u001b[39m, ::Integer) at /Users/julia/buildbot/worker/package_macos64/build/usr/share/julia/stdlib/v1.6/LinearAlgebra/src/symmetric.jl:868\n\u001b[0m  ^(\u001b[91m::LinearAlgebra.Symmetric{var\"#s832\", S} where {var\"#s832\"<:Complex, S<:(AbstractMatrix{var\"#s832\"} where var\"#s832\"<:var\"#s832\")}\u001b[39m, ::Integer) at /Users/julia/buildbot/worker/package_macos64/build/usr/share/julia/stdlib/v1.6/LinearAlgebra/src/symmetric.jl:869\n\u001b[0m  ...",
     "output_type": "error",
     "traceback": [
      "MethodError: no method matching ^(::Vector{ForwardDiff.Dual{ForwardDiff.Tag{typeof(f), Float64}, Float64, 12}}, ::Int64)\n\u001b[0mClosest candidates are:\n\u001b[0m  ^(\u001b[91m::Union{AbstractChar, AbstractString}\u001b[39m, ::Integer) at strings/basic.jl:718\n\u001b[0m  ^(\u001b[91m::LinearAlgebra.Symmetric{var\"#s832\", S} where {var\"#s832\"<:Real, S<:(AbstractMatrix{var\"#s832\"} where var\"#s832\"<:var\"#s832\")}\u001b[39m, ::Integer) at /Users/julia/buildbot/worker/package_macos64/build/usr/share/julia/stdlib/v1.6/LinearAlgebra/src/symmetric.jl:868\n\u001b[0m  ^(\u001b[91m::LinearAlgebra.Symmetric{var\"#s832\", S} where {var\"#s832\"<:Complex, S<:(AbstractMatrix{var\"#s832\"} where var\"#s832\"<:var\"#s832\")}\u001b[39m, ::Integer) at /Users/julia/buildbot/worker/package_macos64/build/usr/share/julia/stdlib/v1.6/LinearAlgebra/src/symmetric.jl:869\n\u001b[0m  ...",
      "",
      "Stacktrace:",
      " [1] macro expansion",
      "   @ ./none:0 [inlined]",
      " [2] literal_pow",
      "   @ ./none:0 [inlined]",
      " [3] f(x::Vector{ForwardDiff.Dual{ForwardDiff.Tag{typeof(f), Float64}, Float64, 12}})",
      "   @ Main ./In[26]:1",
      " [4] chunk_mode_gradient(f::typeof(f), x::StepRangeLen{Float64, Base.TwicePrecision{Float64}, Base.TwicePrecision{Float64}}, cfg::ForwardDiff.GradientConfig{ForwardDiff.Tag{typeof(f), Float64}, Float64, 12, Vector{ForwardDiff.Dual{ForwardDiff.Tag{typeof(f), Float64}, Float64, 12}}})",
      "   @ ForwardDiff ~/.julia/packages/ForwardDiff/QOqCN/src/gradient.jl:150",
      " [5] gradient(f::Function, x::StepRangeLen{Float64, Base.TwicePrecision{Float64}, Base.TwicePrecision{Float64}}, cfg::ForwardDiff.GradientConfig{ForwardDiff.Tag{typeof(f), Float64}, Float64, 12, Vector{ForwardDiff.Dual{ForwardDiff.Tag{typeof(f), Float64}, Float64, 12}}}, ::Val{true})",
      "   @ ForwardDiff ~/.julia/packages/ForwardDiff/QOqCN/src/gradient.jl:21",
      " [6] gradient(f::Function, x::StepRangeLen{Float64, Base.TwicePrecision{Float64}, Base.TwicePrecision{Float64}}, cfg::ForwardDiff.GradientConfig{ForwardDiff.Tag{typeof(f), Float64}, Float64, 12, Vector{ForwardDiff.Dual{ForwardDiff.Tag{typeof(f), Float64}, Float64, 12}}}) (repeats 2 times)",
      "   @ ForwardDiff ~/.julia/packages/ForwardDiff/QOqCN/src/gradient.jl:17",
      " [7] top-level scope",
      "   @ In[39]:1",
      " [8] eval",
      "   @ ./boot.jl:360 [inlined]",
      " [9] include_string(mapexpr::typeof(REPL.softscope), mod::Module, code::String, filename::String)",
      "   @ Base ./loading.jl:1094"
     ]
    }
   ],
   "source": [
    "ForwardDiff.gradient(f, x)"
   ]
  },
  {
   "cell_type": "code",
   "execution_count": null,
   "metadata": {},
   "outputs": [],
   "source": []
  }
 ],
 "metadata": {
  "kernelspec": {
   "display_name": "Julia 1.6.0",
   "language": "julia",
   "name": "julia-1.6"
  },
  "language_info": {
   "file_extension": ".jl",
   "mimetype": "application/julia",
   "name": "julia",
   "version": "1.6.0"
  }
 },
 "nbformat": 4,
 "nbformat_minor": 4
}
