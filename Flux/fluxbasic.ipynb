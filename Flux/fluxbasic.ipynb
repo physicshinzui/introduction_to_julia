{
 "cells": [
  {
   "cell_type": "markdown",
   "metadata": {},
   "source": [
    "# Flux.jlのBasic\n",
    "Date: 17.8.2021\n",
    "\n",
    "References\n",
    "- https://fluxml.ai/Flux.jl/stable/models/basics/"
   ]
  },
  {
   "cell_type": "code",
   "execution_count": 1,
   "metadata": {},
   "outputs": [
    {
     "name": "stdout",
     "output_type": "stream",
     "text": [
      "\u001b[32m\u001b[1m      Status\u001b[22m\u001b[39m `~/Dropbox/01code/julia/intro_julia/Flux/Project.toml`\n",
      " \u001b[90m [052768ef] \u001b[39m\u001b[37mCUDA v3.3.5 ⚲\u001b[39m\n",
      " \u001b[90m [587475ba] \u001b[39m\u001b[37mFlux v0.12.6 ⚲\u001b[39m\n",
      " \u001b[90m [1902f260] \u001b[39m\u001b[37mKnet v1.4.8 ⚲\u001b[39m\n",
      " \u001b[90m [91a5bcdd] \u001b[39m\u001b[37mPlots v1.20.0 ⚲\u001b[39m\n",
      " \u001b[90m [c3e4b0f8] \u001b[39m\u001b[37mPluto v0.15.1 ⚲\u001b[39m\n",
      " \u001b[90m [92933f4c] \u001b[39m\u001b[37mProgressMeter v1.7.1\u001b[39m\n"
     ]
    }
   ],
   "source": [
    "using Pkg\n",
    "using Flux\n",
    "using Plots\n",
    "Pkg.status()"
   ]
  },
  {
   "cell_type": "code",
   "execution_count": 2,
   "metadata": {},
   "outputs": [
    {
     "data": {
      "text/plain": [
       "v\"1.6.0\""
      ]
     },
     "execution_count": 2,
     "metadata": {},
     "output_type": "execute_result"
    }
   ],
   "source": [
    "VERSION"
   ]
  },
  {
   "cell_type": "markdown",
   "metadata": {},
   "source": [
    "## 勾配を計算\n",
    "使用する関数のdocstringを見てみる："
   ]
  },
  {
   "cell_type": "code",
   "execution_count": 3,
   "metadata": {},
   "outputs": [
    {
     "name": "stdout",
     "output_type": "stream",
     "text": [
      "search: \u001b[0m\u001b[1mg\u001b[22m\u001b[0m\u001b[1mr\u001b[22m\u001b[0m\u001b[1ma\u001b[22m\u001b[0m\u001b[1md\u001b[22m\u001b[0m\u001b[1mi\u001b[22m\u001b[0m\u001b[1me\u001b[22m\u001b[0m\u001b[1mn\u001b[22m\u001b[0m\u001b[1mt\u001b[22m Color\u001b[0m\u001b[1mG\u001b[22m\u001b[0m\u001b[1mr\u001b[22m\u001b[0m\u001b[1ma\u001b[22m\u001b[0m\u001b[1md\u001b[22m\u001b[0m\u001b[1mi\u001b[22m\u001b[0m\u001b[1me\u001b[22m\u001b[0m\u001b[1mn\u001b[22m\u001b[0m\u001b[1mt\u001b[22m\n",
      "\n"
     ]
    },
    {
     "data": {
      "text/latex": [
       "\\begin{verbatim}\n",
       "gradient(f, args...)\n",
       "\\end{verbatim}\n",
       "Returns a tuple containing \\texttt{∂f/∂x} for each argument \\texttt{x}, the derivative (for scalar \\texttt{x}) or the gradient.\n",
       "\n",
       "\\texttt{f(args...)} must be a real number, see \\href{@ref}{\\texttt{jacobian}} for array output.\n",
       "\n",
       "See also \\href{@ref}{\\texttt{withgradient}} to keep the value \\texttt{f(args...)}, and \\href{@ref}{\\texttt{pullback}} for value and back-propagator.\n",
       "\n",
       "\\begin{verbatim}\n",
       "julia> gradient(*, 2.0, 3.0, 5.0)\n",
       "(15.0, 10.0, 6.0)\n",
       "\n",
       "julia> gradient(x -> sum(abs2,x), [7.0, 11.0, 13.0])\n",
       "([14.0, 22.0, 26.0],)\n",
       "\n",
       "julia> gradient([7, 11], 0, 1) do x, y, d\n",
       "         p = size(x, d)\n",
       "         sum(x.^p .+ y)\n",
       "       end\n",
       "([14.0, 22.0], 2, nothing)\n",
       "\\end{verbatim}\n",
       "\\rule{\\textwidth}{1pt}\n",
       "\\begin{verbatim}\n",
       "gradient(() -> loss(), ps::Params) -> Grads\n",
       "\\end{verbatim}\n",
       "Gradient with implicit parameters. Takes a zero-argument function, and returns a dictionary-like container, whose keys are arrays \\texttt{x in ps}.\n",
       "\n",
       "\\begin{verbatim}\n",
       "julia> x = [1 2 3; 4 5 6]; y = [7, 8]; z = [1, 10, 100];\n",
       "\n",
       "julia> g = gradient(Params([x, y])) do\n",
       "         sum(x .* y .* z')\n",
       "       end\n",
       "Grads(...)\n",
       "\n",
       "julia> g[x]\n",
       "2×3 Matrix{Int64}:\n",
       " 7  70  700\n",
       " 8  80  800\n",
       "\n",
       "julia> haskey(g, z)  # only x and y are parameters\n",
       "false\n",
       "\\end{verbatim}\n"
      ],
      "text/markdown": [
       "```\n",
       "gradient(f, args...)\n",
       "```\n",
       "\n",
       "Returns a tuple containing `∂f/∂x` for each argument `x`, the derivative (for scalar `x`) or the gradient.\n",
       "\n",
       "`f(args...)` must be a real number, see [`jacobian`](@ref) for array output.\n",
       "\n",
       "See also [`withgradient`](@ref) to keep the value `f(args...)`, and [`pullback`](@ref) for value and back-propagator.\n",
       "\n",
       "```jldoctest; setup=:(using Zygote)\n",
       "julia> gradient(*, 2.0, 3.0, 5.0)\n",
       "(15.0, 10.0, 6.0)\n",
       "\n",
       "julia> gradient(x -> sum(abs2,x), [7.0, 11.0, 13.0])\n",
       "([14.0, 22.0, 26.0],)\n",
       "\n",
       "julia> gradient([7, 11], 0, 1) do x, y, d\n",
       "         p = size(x, d)\n",
       "         sum(x.^p .+ y)\n",
       "       end\n",
       "([14.0, 22.0], 2, nothing)\n",
       "```\n",
       "\n",
       "---\n",
       "\n",
       "```\n",
       "gradient(() -> loss(), ps::Params) -> Grads\n",
       "```\n",
       "\n",
       "Gradient with implicit parameters. Takes a zero-argument function, and returns a dictionary-like container, whose keys are arrays `x in ps`.\n",
       "\n",
       "```jldoctest; setup=:(using Zygote)\n",
       "julia> x = [1 2 3; 4 5 6]; y = [7, 8]; z = [1, 10, 100];\n",
       "\n",
       "julia> g = gradient(Params([x, y])) do\n",
       "         sum(x .* y .* z')\n",
       "       end\n",
       "Grads(...)\n",
       "\n",
       "julia> g[x]\n",
       "2×3 Matrix{Int64}:\n",
       " 7  70  700\n",
       " 8  80  800\n",
       "\n",
       "julia> haskey(g, z)  # only x and y are parameters\n",
       "false\n",
       "```\n"
      ],
      "text/plain": [
       "\u001b[36m  gradient(f, args...)\u001b[39m\n",
       "\n",
       "  Returns a tuple containing \u001b[36m∂f/∂x\u001b[39m for each argument \u001b[36mx\u001b[39m, the derivative (for scalar \u001b[36mx\u001b[39m) or the gradient.\n",
       "\n",
       "  \u001b[36mf(args...)\u001b[39m must be a real number, see \u001b[36mjacobian\u001b[39m for array output.\n",
       "\n",
       "  See also \u001b[36mwithgradient\u001b[39m to keep the value \u001b[36mf(args...)\u001b[39m, and \u001b[36mpullback\u001b[39m for value and back-propagator.\n",
       "\n",
       "\u001b[36m  julia> gradient(*, 2.0, 3.0, 5.0)\u001b[39m\n",
       "\u001b[36m  (15.0, 10.0, 6.0)\u001b[39m\n",
       "\u001b[36m  \u001b[39m\n",
       "\u001b[36m  julia> gradient(x -> sum(abs2,x), [7.0, 11.0, 13.0])\u001b[39m\n",
       "\u001b[36m  ([14.0, 22.0, 26.0],)\u001b[39m\n",
       "\u001b[36m  \u001b[39m\n",
       "\u001b[36m  julia> gradient([7, 11], 0, 1) do x, y, d\u001b[39m\n",
       "\u001b[36m           p = size(x, d)\u001b[39m\n",
       "\u001b[36m           sum(x.^p .+ y)\u001b[39m\n",
       "\u001b[36m         end\u001b[39m\n",
       "\u001b[36m  ([14.0, 22.0], 2, nothing)\u001b[39m\n",
       "\n",
       "  ────────────────────────────────────────────────────────────────────────────────────────────────────────────────────────────────────────────────────────────────────────────────────────────────────────────────────────────────────────────────────────────────────────────────────────────────────────────────────────────────────────────────────────────────────────────────────────────────────────────────────────────────────────────────────────────────────────────────────────────────────────────────────────────────────────────────────────────────────────────────────────────────────────────────────────────────────────────────────────────────────────────────────────────────────────────────────────────────────────────────────────────────────────────────────────────────────────────────────────────────────────────────────────────────────────────────────────────────────────────────────────────────────────────────────────────────────────────────────────────────────────────────────────────────────\n",
       "\n",
       "\u001b[36m  gradient(() -> loss(), ps::Params) -> Grads\u001b[39m\n",
       "\n",
       "  Gradient with implicit parameters. Takes a zero-argument function, and returns a dictionary-like container, whose keys are arrays \u001b[36mx in ps\u001b[39m.\n",
       "\n",
       "\u001b[36m  julia> x = [1 2 3; 4 5 6]; y = [7, 8]; z = [1, 10, 100];\u001b[39m\n",
       "\u001b[36m  \u001b[39m\n",
       "\u001b[36m  julia> g = gradient(Params([x, y])) do\u001b[39m\n",
       "\u001b[36m           sum(x .* y .* z')\u001b[39m\n",
       "\u001b[36m         end\u001b[39m\n",
       "\u001b[36m  Grads(...)\u001b[39m\n",
       "\u001b[36m  \u001b[39m\n",
       "\u001b[36m  julia> g[x]\u001b[39m\n",
       "\u001b[36m  2×3 Matrix{Int64}:\u001b[39m\n",
       "\u001b[36m   7  70  700\u001b[39m\n",
       "\u001b[36m   8  80  800\u001b[39m\n",
       "\u001b[36m  \u001b[39m\n",
       "\u001b[36m  julia> haskey(g, z)  # only x and y are parameters\u001b[39m\n",
       "\u001b[36m  false\u001b[39m"
      ]
     },
     "execution_count": 3,
     "metadata": {},
     "output_type": "execute_result"
    }
   ],
   "source": [
    "?gradient"
   ]
  },
  {
   "cell_type": "markdown",
   "metadata": {},
   "source": [
    "### Example 1:シンプルな場合\n",
    "$$\n",
    "f(x) = 3x^2 + 2x + 1\n",
    "$$\n",
    "\n",
    "$$\n",
    "\\mathrm{grad} f(x) = 6x + 2\n",
    "$$\n",
    "\n",
    "$$\n",
    "\\mathrm{grad} \\ \\mathrm{grad} f(x) = 6\n",
    "$$"
   ]
  },
  {
   "cell_type": "code",
   "execution_count": 4,
   "metadata": {},
   "outputs": [
    {
     "data": {
      "text/plain": [
       "df (generic function with 1 method)"
      ]
     },
     "execution_count": 4,
     "metadata": {},
     "output_type": "execute_result"
    }
   ],
   "source": [
    "f(x) = 3x^2 + 2x + 1\n",
    "df(x) = Flux.gradient(f, x)[1] # the first element of the tuple returned"
   ]
  },
  {
   "cell_type": "code",
   "execution_count": 5,
   "metadata": {},
   "outputs": [
    {
     "data": {
      "text/plain": [
       "14.0"
      ]
     },
     "execution_count": 5,
     "metadata": {},
     "output_type": "execute_result"
    }
   ],
   "source": [
    "df(2)"
   ]
  },
  {
   "cell_type": "code",
   "execution_count": 6,
   "metadata": {},
   "outputs": [
    {
     "data": {
      "text/plain": [
       "d2f (generic function with 1 method)"
      ]
     },
     "execution_count": 6,
     "metadata": {},
     "output_type": "execute_result"
    }
   ],
   "source": [
    "d2f(x) = Flux.gradient(df, x)[1]"
   ]
  },
  {
   "cell_type": "code",
   "execution_count": 7,
   "metadata": {},
   "outputs": [
    {
     "data": {
      "text/plain": [
       "6.0"
      ]
     },
     "execution_count": 7,
     "metadata": {},
     "output_type": "execute_result"
    }
   ],
   "source": [
    "d2f(2)"
   ]
  },
  {
   "cell_type": "markdown",
   "metadata": {},
   "source": [
    "### Example 2: 複数のパラメタをgradientsに与える\n",
    "$$\n",
    "f(x,y) = \\sum_i (x_i - y_i)^2\n",
    "$$"
   ]
  },
  {
   "cell_type": "code",
   "execution_count": 8,
   "metadata": {},
   "outputs": [
    {
     "data": {
      "text/plain": [
       "f (generic function with 2 methods)"
      ]
     },
     "execution_count": 8,
     "metadata": {},
     "output_type": "execute_result"
    }
   ],
   "source": [
    "f(x, y) = sum((x .- y ).^2)"
   ]
  },
  {
   "cell_type": "code",
   "execution_count": 9,
   "metadata": {},
   "outputs": [
    {
     "data": {
      "text/plain": [
       "([0, 2], [0, -2])"
      ]
     },
     "execution_count": 9,
     "metadata": {},
     "output_type": "execute_result"
    }
   ],
   "source": [
    "Flux.gradient(f, [2, 1], [2, 0])"
   ]
  },
  {
   "cell_type": "markdown",
   "metadata": {},
   "source": [
    "### Example 3:もっと多くのパラメタをgradientに与える場合\n",
    "`Flux.params()`を使ってパラメタのコレクションを渡す．"
   ]
  },
  {
   "cell_type": "code",
   "execution_count": 10,
   "metadata": {},
   "outputs": [
    {
     "data": {
      "text/plain": [
       "Params([[2, 1], [2, 0]])"
      ]
     },
     "execution_count": 10,
     "metadata": {},
     "output_type": "execute_result"
    }
   ],
   "source": [
    "x = [2, 1]\n",
    "y = [2, 0]\n",
    "parameters = Flux.params(x,y)"
   ]
  },
  {
   "cell_type": "code",
   "execution_count": 11,
   "metadata": {},
   "outputs": [
    {
     "data": {
      "text/plain": [
       "Grads(...)"
      ]
     },
     "execution_count": 11,
     "metadata": {},
     "output_type": "execute_result"
    }
   ],
   "source": [
    "gs = Flux.gradient(parameters) do\n",
    "    f(x,y)\n",
    "end\n",
    "#What does this do???"
   ]
  },
  {
   "cell_type": "code",
   "execution_count": 12,
   "metadata": {},
   "outputs": [
    {
     "data": {
      "text/plain": [
       "2-element Vector{Int64}:\n",
       " 0\n",
       " 2"
      ]
     },
     "execution_count": 12,
     "metadata": {},
     "output_type": "execute_result"
    }
   ],
   "source": [
    "gs[x]"
   ]
  },
  {
   "cell_type": "code",
   "execution_count": 13,
   "metadata": {},
   "outputs": [
    {
     "data": {
      "text/plain": [
       "2-element Vector{Int64}:\n",
       "  0\n",
       " -2"
      ]
     },
     "execution_count": 13,
     "metadata": {},
     "output_type": "execute_result"
    }
   ],
   "source": [
    "gs[y]"
   ]
  },
  {
   "cell_type": "markdown",
   "metadata": {},
   "source": [
    "## 線形回帰のシンプルなモデルを構築"
   ]
  },
  {
   "cell_type": "code",
   "execution_count": 14,
   "metadata": {},
   "outputs": [
    {
     "data": {
      "text/plain": [
       "predict (generic function with 1 method)"
      ]
     },
     "execution_count": 14,
     "metadata": {},
     "output_type": "execute_result"
    }
   ],
   "source": [
    "W = rand(2, 5)\n",
    "b = rand(2)\n",
    "predict(x) = W*x .+ b"
   ]
  },
  {
   "cell_type": "code",
   "execution_count": 15,
   "metadata": {},
   "outputs": [
    {
     "data": {
      "text/plain": [
       "loss (generic function with 1 method)"
      ]
     },
     "execution_count": 15,
     "metadata": {},
     "output_type": "execute_result"
    }
   ],
   "source": [
    "function loss(x, y)\n",
    "    ŷ = predict(x)\n",
    "    sum((y .- ŷ).^2)\n",
    "end"
   ]
  },
  {
   "cell_type": "code",
   "execution_count": 16,
   "metadata": {},
   "outputs": [
    {
     "data": {
      "text/plain": [
       "5.489018517233237"
      ]
     },
     "execution_count": 16,
     "metadata": {},
     "output_type": "execute_result"
    }
   ],
   "source": [
    "x, y = rand(5), rand(2) # Dummy data\n",
    "loss(x, y)"
   ]
  },
  {
   "cell_type": "markdown",
   "metadata": {},
   "source": [
    "### Improve the prediction"
   ]
  },
  {
   "cell_type": "code",
   "execution_count": 17,
   "metadata": {},
   "outputs": [
    {
     "data": {
      "text/plain": [
       "Params([[0.28195219904777935 0.924176700144618 … 0.16621267215193924 0.4950159182891165; 0.7723926663698144 0.6907842903983845 … 0.13320574997558343 0.5858352376259912], [0.49407665816278556, 0.7098413976911151]])"
      ]
     },
     "execution_count": 17,
     "metadata": {},
     "output_type": "execute_result"
    }
   ],
   "source": [
    "parameters = Flux.params(W, b)"
   ]
  },
  {
   "cell_type": "code",
   "execution_count": 18,
   "metadata": {},
   "outputs": [
    {
     "data": {
      "text/plain": [
       "Grads(...)"
      ]
     },
     "execution_count": 18,
     "metadata": {},
     "output_type": "execute_result"
    }
   ],
   "source": [
    "gs = Flux.gradient(() -> loss(x, y), parameters) "
   ]
  },
  {
   "cell_type": "code",
   "execution_count": null,
   "metadata": {},
   "outputs": [],
   "source": []
  }
 ],
 "metadata": {
  "kernelspec": {
   "display_name": "Julia 1.6.0",
   "language": "julia",
   "name": "julia-1.6"
  },
  "language_info": {
   "file_extension": ".jl",
   "mimetype": "application/julia",
   "name": "julia",
   "version": "1.6.0"
  }
 },
 "nbformat": 4,
 "nbformat_minor": 4
}
