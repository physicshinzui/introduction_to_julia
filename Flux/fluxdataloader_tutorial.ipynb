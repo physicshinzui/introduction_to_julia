{
 "cells": [
  {
   "cell_type": "markdown",
   "metadata": {},
   "source": [
    "# DataLoaderの使い方"
   ]
  },
  {
   "cell_type": "markdown",
   "metadata": {},
   "source": [
    "## 目的：Flix DataLodarを使ってどうやって画像をロードして，処理するかを学ぶ．"
   ]
  },
  {
   "cell_type": "code",
   "execution_count": 1,
   "metadata": {},
   "outputs": [],
   "source": [
    "using Pkg\n",
    "using MLDatasets: MNIST\n",
    "using Flux.Data: DataLoader\n",
    "using Flux: onehotbatch"
   ]
  },
  {
   "cell_type": "code",
   "execution_count": 2,
   "metadata": {},
   "outputs": [
    {
     "name": "stdout",
     "output_type": "stream",
     "text": [
      "\u001b[32m\u001b[1m      Status\u001b[22m\u001b[39m `~/Dropbox/01code/julia/intro_julia/Flux/Project.toml`\n",
      " \u001b[90m [052768ef] \u001b[39m\u001b[37mCUDA v3.3.5 ⚲\u001b[39m\n",
      " \u001b[90m [587475ba] \u001b[39m\u001b[37mFlux v0.12.6 ⚲\u001b[39m\n",
      " \u001b[90m [1902f260] \u001b[39m\u001b[37mKnet v1.4.8 ⚲\u001b[39m\n",
      " \u001b[90m [eb30cadb] \u001b[39m\u001b[37mMLDatasets v0.5.9 ⚲\u001b[39m\n",
      " \u001b[90m [91a5bcdd] \u001b[39m\u001b[37mPlots v1.20.0 ⚲\u001b[39m\n",
      " \u001b[90m [c3e4b0f8] \u001b[39m\u001b[37mPluto v0.15.1 ⚲\u001b[39m\n",
      " \u001b[90m [92933f4c] \u001b[39m\u001b[37mProgressMeter v1.7.1\u001b[39m\n"
     ]
    }
   ],
   "source": [
    "Pkg.status()"
   ]
  },
  {
   "cell_type": "code",
   "execution_count": 3,
   "metadata": {},
   "outputs": [
    {
     "data": {
      "text/plain": [
       "v\"1.6.0\""
      ]
     },
     "execution_count": 3,
     "metadata": {},
     "output_type": "execute_result"
    }
   ],
   "source": [
    "VERSION"
   ]
  },
  {
   "cell_type": "markdown",
   "metadata": {},
   "source": [
    "## 1. MNISTデータセットを読み込む\n",
    "- `train_x`は28*28**60000の多次元次元配列で，60000の要素それぞれが28*28の配列を持っている．\n",
    "    - それぞれの配列は28*28の配列で，グレースケールの手書き画像を表現している．\n",
    "    - 28*28の配列のそれぞれの要素はピクセルで，輝度の値を持っている．\n",
    "- `train_y`は60000要素のベクトルで，それぞれの要素はラベルを格納している（０から９のラベル）．"
   ]
  },
  {
   "cell_type": "code",
   "execution_count": 4,
   "metadata": {},
   "outputs": [
    {
     "name": "stdout",
     "output_type": "stream",
     "text": [
      "size(train_x) = (28, 28, 60000)\n",
      "size(train_y) = (60000,)\n",
      "size(test_x) = (28, 28, 10000)\n",
      "size(test_y) = (10000,)\n"
     ]
    },
    {
     "data": {
      "text/plain": [
       "(10000,)"
      ]
     },
     "execution_count": 4,
     "metadata": {},
     "output_type": "execute_result"
    }
   ],
   "source": [
    "train_x, train_y = MNIST.traindata(Float32)\n",
    "test_x, test_y = MNIST.testdata(Float32)\n",
    "@show size(train_x)\n",
    "@show size(train_y)\n",
    "@show size(test_x)\n",
    "@show size(test_y)"
   ]
  },
  {
   "cell_type": "markdown",
   "metadata": {},
   "source": [
    "## 2. DataLoaderにデータセットを読み込む\n",
    "ここではまず，Fluxが読み取れるように学習・テストデータの配列のサイズを整形する．\n",
    "どのように整形するかというと，\n",
    "- モデルのインプットとアウトプットの次元と合うように学習データのサイズを合わせる\n",
    "\n",
    "例えば，もし扱うモデルの入力層が28*28*1の配列を受け取るとしたら，以下のように学習・テストデータの配列をrespaheする："
   ]
  },
  {
   "cell_type": "code",
   "execution_count": 5,
   "metadata": {},
   "outputs": [
    {
     "name": "stdout",
     "output_type": "stream",
     "text": [
      "size(train_x) = (28, 28, 1, 60000)\n",
      "size(test_x) = (28, 28, 1, 10000)\n"
     ]
    },
    {
     "data": {
      "text/plain": [
       "(28, 28, 1, 10000)"
      ]
     },
     "execution_count": 5,
     "metadata": {},
     "output_type": "execute_result"
    }
   ],
   "source": [
    "train_x = reshape(train_x, 28, 28, 1, :)\n",
    "test_x = reshape(test_x, 28, 28, 1, :)\n",
    "@show size(train_x)\n",
    "@show size(test_x)"
   ]
  },
  {
   "cell_type": "markdown",
   "metadata": {},
   "source": [
    "次に，`onehotbatch`をつかて，ラベルを格納したベクトルをエンコードする．\n",
    "その際，データセットのカテゴリの数と同じ次元のベクトルでなければダメ．\n",
    "`onehotbatch`はone-hot vectorのバッチ（行列）を作成する関数である：\n",
    "\n",
    "- https://fluxml.ai/Flux.jl/stable/data/onehot/#Batches-1）\n",
    "- https://fluxml.ai/Flux.jl/stable/data/onehot/"
   ]
  },
  {
   "cell_type": "code",
   "execution_count": 8,
   "metadata": {},
   "outputs": [
    {
     "name": "stdout",
     "output_type": "stream",
     "text": [
      "size(train_y) = (10, 10, 60000)\n",
      "size(test_y) = (10, 10, 10000)\n"
     ]
    },
    {
     "data": {
      "text/plain": [
       "(10, 10, 10000)"
      ]
     },
     "execution_count": 8,
     "metadata": {},
     "output_type": "execute_result"
    }
   ],
   "source": [
    "train_y = onehotbatch(train_y, 0:9)\n",
    "test_y = onehotbatch(test_y, 0:9)\n",
    "@show size(train_y)\n",
    "@show size(test_y)"
   ]
  },
  {
   "cell_type": "markdown",
   "metadata": {},
   "source": [
    "ここで学習データとそのラベルを`DataLoader`に格納する：\n"
   ]
  },
  {
   "cell_type": "code",
   "execution_count": 11,
   "metadata": {},
   "outputs": [
    {
     "ename": "LoadError",
     "evalue": "MethodError: no method matching DataLoader(::Array{Float32, 4}, ::Flux.OneHotArray{UInt32, 10, 2, 3, Matrix{UInt32}}; batchsize=1, shuffle=true)\n\u001b[0mClosest candidates are:\n\u001b[0m  DataLoader(::Any; batchsize, shuffle, partial, rng) at /Users/siida/.julia/packages/Flux/Zz9RI/src/data/dataloader.jl:77\n\u001b[0m  DataLoader(::D, \u001b[91m::Int64\u001b[39m, \u001b[91m::Int64\u001b[39m, \u001b[91m::Bool\u001b[39m, \u001b[91m::Int64\u001b[39m, \u001b[91m::Vector{Int64}\u001b[39m, \u001b[91m::Bool\u001b[39m, \u001b[91m::R\u001b[39m) where {D, R<:Random.AbstractRNG} at /Users/siida/.julia/packages/Flux/Zz9RI/src/data/dataloader.jl:5\u001b[91m got unsupported keyword arguments \"batchsize\", \"shuffle\"\u001b[39m",
     "output_type": "error",
     "traceback": [
      "MethodError: no method matching DataLoader(::Array{Float32, 4}, ::Flux.OneHotArray{UInt32, 10, 2, 3, Matrix{UInt32}}; batchsize=1, shuffle=true)\n\u001b[0mClosest candidates are:\n\u001b[0m  DataLoader(::Any; batchsize, shuffle, partial, rng) at /Users/siida/.julia/packages/Flux/Zz9RI/src/data/dataloader.jl:77\n\u001b[0m  DataLoader(::D, \u001b[91m::Int64\u001b[39m, \u001b[91m::Int64\u001b[39m, \u001b[91m::Bool\u001b[39m, \u001b[91m::Int64\u001b[39m, \u001b[91m::Vector{Int64}\u001b[39m, \u001b[91m::Bool\u001b[39m, \u001b[91m::R\u001b[39m) where {D, R<:Random.AbstractRNG} at /Users/siida/.julia/packages/Flux/Zz9RI/src/data/dataloader.jl:5\u001b[91m got unsupported keyword arguments \"batchsize\", \"shuffle\"\u001b[39m",
      "",
      "Stacktrace:",
      " [1] top-level scope",
      "   @ In[11]:1",
      " [2] eval",
      "   @ ./boot.jl:360 [inlined]",
      " [3] include_string(mapexpr::typeof(REPL.softscope), mod::Module, code::String, filename::String)",
      "   @ Base ./loading.jl:1094"
     ]
    }
   ],
   "source": [
    "data_loader = DataLoader(train_x, train_y, batchsize=128, shuffle=true)"
   ]
  },
  {
   "cell_type": "markdown",
   "metadata": {},
   "source": [
    "## 3. データを繰り返す"
   ]
  },
  {
   "cell_type": "code",
   "execution_count": 14,
   "metadata": {},
   "outputs": [],
   "source": [
    "#for (x, y) in data_loader\n",
    "#   @assert size(x) == (28, 28, 1, 128) || size(x) == (28, 28, 1, 96)\n",
    "#   @assert size(y) == (10, 128) || size(y) == (10, 96)\n",
    "#   ...\n",
    "#end "
   ]
  },
  {
   "cell_type": "code",
   "execution_count": null,
   "metadata": {},
   "outputs": [],
   "source": []
  }
 ],
 "metadata": {
  "kernelspec": {
   "display_name": "Julia 1.6.0",
   "language": "julia",
   "name": "julia-1.6"
  },
  "language_info": {
   "file_extension": ".jl",
   "mimetype": "application/julia",
   "name": "julia",
   "version": "1.6.0"
  }
 },
 "nbformat": 4,
 "nbformat_minor": 4
}
