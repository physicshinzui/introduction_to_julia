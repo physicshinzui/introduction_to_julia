{
 "cells": [
  {
   "cell_type": "markdown",
   "metadata": {},
   "source": [
    "# DataFrame.jlとCSV.jlを使って，CSVファイルを読み込んで操作してみる"
   ]
  },
  {
   "cell_type": "code",
   "execution_count": 1,
   "metadata": {},
   "outputs": [],
   "source": [
    "using DataFrames, DataFramesMeta, HTTP, Plots, CSV"
   ]
  },
  {
   "cell_type": "markdown",
   "metadata": {},
   "source": [
    "## タンパク質の点変異による構造安定性のcsv fileをDataFrameに入れる"
   ]
  },
  {
   "cell_type": "code",
   "execution_count": 2,
   "metadata": {},
   "outputs": [
    {
     "data": {
      "text/html": [
       "<table class=\"data-frame\"><thead><tr><th></th><th>PDB_CHAIN</th><th>WILD_RES</th><th>POSITION</th><th>MUTANT_RES</th><th>PH</th><th>TEMPERATURE</th><th>EXP_DDG</th></tr><tr><th></th><th>String</th><th>String</th><th>Int64</th><th>String</th><th>Float64</th><th>Float64</th><th>Float64</th></tr></thead><tbody><p>6 rows × 7 columns</p><tr><th>1</th><td>1A43A</td><td>G</td><td>156</td><td>A</td><td>7.3</td><td>25.0</td><td>-2.4</td></tr><tr><th>2</th><td>1A43A</td><td>E</td><td>159</td><td>D</td><td>7.3</td><td>25.0</td><td>-4.55</td></tr><tr><th>3</th><td>1A43A</td><td>R</td><td>167</td><td>A</td><td>7.3</td><td>25.0</td><td>-4.55</td></tr><tr><th>4</th><td>1A43A</td><td>W</td><td>184</td><td>A</td><td>7.3</td><td>25.0</td><td>-0.7</td></tr><tr><th>5</th><td>1A43A</td><td>C</td><td>218</td><td>S</td><td>7.3</td><td>25.0</td><td>-3.7</td></tr><tr><th>6</th><td>1A5EA</td><td>W</td><td>15</td><td>D</td><td>8.5</td><td>20.0</td><td>0.19</td></tr></tbody></table>"
      ],
      "text/latex": [
       "\\begin{tabular}{r|ccccccc}\n",
       "\t& PDB\\_CHAIN & WILD\\_RES & POSITION & MUTANT\\_RES & PH & TEMPERATURE & EXP\\_DDG\\\\\n",
       "\t\\hline\n",
       "\t& String & String & Int64 & String & Float64 & Float64 & Float64\\\\\n",
       "\t\\hline\n",
       "\t1 & 1A43A & G & 156 & A & 7.3 & 25.0 & -2.4 \\\\\n",
       "\t2 & 1A43A & E & 159 & D & 7.3 & 25.0 & -4.55 \\\\\n",
       "\t3 & 1A43A & R & 167 & A & 7.3 & 25.0 & -4.55 \\\\\n",
       "\t4 & 1A43A & W & 184 & A & 7.3 & 25.0 & -0.7 \\\\\n",
       "\t5 & 1A43A & C & 218 & S & 7.3 & 25.0 & -3.7 \\\\\n",
       "\t6 & 1A5EA & W & 15 & D & 8.5 & 20.0 & 0.19 \\\\\n",
       "\\end{tabular}\n"
      ],
      "text/plain": [
       "6×7 DataFrame. Omitted printing of 1 columns\n",
       "│ Row │ PDB_CHAIN │ WILD_RES │ POSITION │ MUTANT_RES │ PH      │ TEMPERATURE │\n",
       "│     │ \u001b[90mString\u001b[39m    │ \u001b[90mString\u001b[39m   │ \u001b[90mInt64\u001b[39m    │ \u001b[90mString\u001b[39m     │ \u001b[90mFloat64\u001b[39m │ \u001b[90mFloat64\u001b[39m     │\n",
       "├─────┼───────────┼──────────┼──────────┼────────────┼─────────┼─────────────┤\n",
       "│ 1   │ 1A43A     │ G        │ 156      │ A          │ 7.3     │ 25.0        │\n",
       "│ 2   │ 1A43A     │ E        │ 159      │ D          │ 7.3     │ 25.0        │\n",
       "│ 3   │ 1A43A     │ R        │ 167      │ A          │ 7.3     │ 25.0        │\n",
       "│ 4   │ 1A43A     │ W        │ 184      │ A          │ 7.3     │ 25.0        │\n",
       "│ 5   │ 1A43A     │ C        │ 218      │ S          │ 7.3     │ 25.0        │\n",
       "│ 6   │ 1A5EA     │ W        │ 15       │ D          │ 8.5     │ 20.0        │"
      ]
     },
     "execution_count": 2,
     "metadata": {},
     "output_type": "execute_result"
    }
   ],
   "source": [
    "url = \"http://marid.bioc.cam.ac.uk/sdm2/static/datasets/dataset_S2648.csv\"\n",
    "df = DataFrame(CSV.File(HTTP.get(url).body))\n",
    "head(df)"
   ]
  },
  {
   "cell_type": "code",
   "execution_count": 3,
   "metadata": {},
   "outputs": [
    {
     "data": {
      "text/html": [
       "<table class=\"data-frame\"><thead><tr><th></th><th>PDB_CHAIN</th><th>WILD_RES</th><th>POSITION</th><th>MUTANT_RES</th><th>PH</th><th>TEMPERATURE</th><th>EXP_DDG</th></tr><tr><th></th><th>String</th><th>String</th><th>Int64</th><th>String</th><th>Float64</th><th>Float64</th><th>Float64</th></tr></thead><tbody><p>6 rows × 7 columns</p><tr><th>1</th><td>5PTIA</td><td>Y</td><td>35</td><td>N</td><td>8.7</td><td>25.0</td><td>-3.7</td></tr><tr><th>2</th><td>5PTIA</td><td>G</td><td>36</td><td>D</td><td>8.7</td><td>25.0</td><td>-2.8</td></tr><tr><th>3</th><td>5PTIA</td><td>G</td><td>36</td><td>S</td><td>4.6</td><td>72.6</td><td>-0.7</td></tr><tr><th>4</th><td>5PTIA</td><td>G</td><td>37</td><td>A</td><td>5.5</td><td>23.9</td><td>-3.01</td></tr><tr><th>5</th><td>5PTIA</td><td>G</td><td>37</td><td>D</td><td>8.7</td><td>25.0</td><td>-1.7</td></tr><tr><th>6</th><td>5PTIA</td><td>N</td><td>44</td><td>G</td><td>2.0</td><td>25.0</td><td>-4.7</td></tr></tbody></table>"
      ],
      "text/latex": [
       "\\begin{tabular}{r|ccccccc}\n",
       "\t& PDB\\_CHAIN & WILD\\_RES & POSITION & MUTANT\\_RES & PH & TEMPERATURE & EXP\\_DDG\\\\\n",
       "\t\\hline\n",
       "\t& String & String & Int64 & String & Float64 & Float64 & Float64\\\\\n",
       "\t\\hline\n",
       "\t1 & 5PTIA & Y & 35 & N & 8.7 & 25.0 & -3.7 \\\\\n",
       "\t2 & 5PTIA & G & 36 & D & 8.7 & 25.0 & -2.8 \\\\\n",
       "\t3 & 5PTIA & G & 36 & S & 4.6 & 72.6 & -0.7 \\\\\n",
       "\t4 & 5PTIA & G & 37 & A & 5.5 & 23.9 & -3.01 \\\\\n",
       "\t5 & 5PTIA & G & 37 & D & 8.7 & 25.0 & -1.7 \\\\\n",
       "\t6 & 5PTIA & N & 44 & G & 2.0 & 25.0 & -4.7 \\\\\n",
       "\\end{tabular}\n"
      ],
      "text/plain": [
       "6×7 DataFrame. Omitted printing of 1 columns\n",
       "│ Row │ PDB_CHAIN │ WILD_RES │ POSITION │ MUTANT_RES │ PH      │ TEMPERATURE │\n",
       "│     │ \u001b[90mString\u001b[39m    │ \u001b[90mString\u001b[39m   │ \u001b[90mInt64\u001b[39m    │ \u001b[90mString\u001b[39m     │ \u001b[90mFloat64\u001b[39m │ \u001b[90mFloat64\u001b[39m     │\n",
       "├─────┼───────────┼──────────┼──────────┼────────────┼─────────┼─────────────┤\n",
       "│ 1   │ 5PTIA     │ Y        │ 35       │ N          │ 8.7     │ 25.0        │\n",
       "│ 2   │ 5PTIA     │ G        │ 36       │ D          │ 8.7     │ 25.0        │\n",
       "│ 3   │ 5PTIA     │ G        │ 36       │ S          │ 4.6     │ 72.6        │\n",
       "│ 4   │ 5PTIA     │ G        │ 37       │ A          │ 5.5     │ 23.9        │\n",
       "│ 5   │ 5PTIA     │ G        │ 37       │ D          │ 8.7     │ 25.0        │\n",
       "│ 6   │ 5PTIA     │ N        │ 44       │ G          │ 2.0     │ 25.0        │"
      ]
     },
     "execution_count": 3,
     "metadata": {},
     "output_type": "execute_result"
    }
   ],
   "source": [
    "tail(df)"
   ]
  },
  {
   "cell_type": "markdown",
   "metadata": {},
   "source": [
    "## 点変異による自由エネルギー変化$\\Delta \\Delta G$に対して大きい順にしてみる"
   ]
  },
  {
   "cell_type": "code",
   "execution_count": 4,
   "metadata": {},
   "outputs": [
    {
     "data": {
      "text/html": [
       "<table class=\"data-frame\"><thead><tr><th></th><th>PDB_CHAIN</th><th>WILD_RES</th><th>POSITION</th><th>MUTANT_RES</th><th>PH</th><th>TEMPERATURE</th><th>EXP_DDG</th></tr><tr><th></th><th>String</th><th>String</th><th>Int64</th><th>String</th><th>Float64</th><th>Float64</th><th>Float64</th></tr></thead><tbody><p>6 rows × 7 columns</p><tr><th>1</th><td>1FVKA</td><td>H</td><td>32</td><td>Y</td><td>7.0</td><td>30.0</td><td>6.8</td></tr><tr><th>2</th><td>1FVKA</td><td>H</td><td>32</td><td>L</td><td>7.0</td><td>30.0</td><td>5.3</td></tr><tr><th>3</th><td>1FVKA</td><td>H</td><td>32</td><td>S</td><td>7.0</td><td>30.0</td><td>5.2</td></tr><tr><th>4</th><td>1N0JA</td><td>Y</td><td>34</td><td>F</td><td>7.8</td><td>88.9</td><td>4.75</td></tr><tr><th>5</th><td>2TRXA</td><td>D</td><td>26</td><td>A</td><td>7.7</td><td>25.0</td><td>4.2</td></tr><tr><th>6</th><td>1QLPA</td><td>A</td><td>183</td><td>V</td><td>6.5</td><td>25.0</td><td>3.8</td></tr></tbody></table>"
      ],
      "text/latex": [
       "\\begin{tabular}{r|ccccccc}\n",
       "\t& PDB\\_CHAIN & WILD\\_RES & POSITION & MUTANT\\_RES & PH & TEMPERATURE & EXP\\_DDG\\\\\n",
       "\t\\hline\n",
       "\t& String & String & Int64 & String & Float64 & Float64 & Float64\\\\\n",
       "\t\\hline\n",
       "\t1 & 1FVKA & H & 32 & Y & 7.0 & 30.0 & 6.8 \\\\\n",
       "\t2 & 1FVKA & H & 32 & L & 7.0 & 30.0 & 5.3 \\\\\n",
       "\t3 & 1FVKA & H & 32 & S & 7.0 & 30.0 & 5.2 \\\\\n",
       "\t4 & 1N0JA & Y & 34 & F & 7.8 & 88.9 & 4.75 \\\\\n",
       "\t5 & 2TRXA & D & 26 & A & 7.7 & 25.0 & 4.2 \\\\\n",
       "\t6 & 1QLPA & A & 183 & V & 6.5 & 25.0 & 3.8 \\\\\n",
       "\\end{tabular}\n"
      ],
      "text/plain": [
       "6×7 DataFrame. Omitted printing of 1 columns\n",
       "│ Row │ PDB_CHAIN │ WILD_RES │ POSITION │ MUTANT_RES │ PH      │ TEMPERATURE │\n",
       "│     │ \u001b[90mString\u001b[39m    │ \u001b[90mString\u001b[39m   │ \u001b[90mInt64\u001b[39m    │ \u001b[90mString\u001b[39m     │ \u001b[90mFloat64\u001b[39m │ \u001b[90mFloat64\u001b[39m     │\n",
       "├─────┼───────────┼──────────┼──────────┼────────────┼─────────┼─────────────┤\n",
       "│ 1   │ 1FVKA     │ H        │ 32       │ Y          │ 7.0     │ 30.0        │\n",
       "│ 2   │ 1FVKA     │ H        │ 32       │ L          │ 7.0     │ 30.0        │\n",
       "│ 3   │ 1FVKA     │ H        │ 32       │ S          │ 7.0     │ 30.0        │\n",
       "│ 4   │ 1N0JA     │ Y        │ 34       │ F          │ 7.8     │ 88.9        │\n",
       "│ 5   │ 2TRXA     │ D        │ 26       │ A          │ 7.7     │ 25.0        │\n",
       "│ 6   │ 1QLPA     │ A        │ 183      │ V          │ 6.5     │ 25.0        │"
      ]
     },
     "execution_count": 4,
     "metadata": {},
     "output_type": "execute_result"
    }
   ],
   "source": [
    "sort!(df, :EXP_DDG, rev=true) #sort!(df)でdfを書き換えている\n",
    "head(df)"
   ]
  },
  {
   "cell_type": "markdown",
   "metadata": {},
   "source": [
    "## PHでsortした後に，$\\Delta \\Delta G$でsortしてみる\n",
    "以下のコードは，最初にpHでsortした後に，それぞれのグループ，たとえばPH=11.0のデータを$\\Delta \\Delta G$が大きい順に並び替えることをしている．"
   ]
  },
  {
   "cell_type": "code",
   "execution_count": 5,
   "metadata": {},
   "outputs": [
    {
     "data": {
      "text/html": [
       "<table class=\"data-frame\"><thead><tr><th></th><th>PDB_CHAIN</th><th>WILD_RES</th><th>POSITION</th><th>MUTANT_RES</th><th>PH</th><th>TEMPERATURE</th><th>EXP_DDG</th></tr><tr><th></th><th>String</th><th>String</th><th>Int64</th><th>String</th><th>Float64</th><th>Float64</th><th>Float64</th></tr></thead><tbody><p>6 rows × 7 columns</p><tr><th>1</th><td>1BVCA</td><td>I</td><td>142</td><td>M</td><td>11.0</td><td>76.5</td><td>0.9</td></tr><tr><th>2</th><td>1BVCA</td><td>I</td><td>142</td><td>L</td><td>11.0</td><td>76.5</td><td>0.6</td></tr><tr><th>3</th><td>1BVCA</td><td>L</td><td>29</td><td>M</td><td>11.0</td><td>76.5</td><td>0.1</td></tr><tr><th>4</th><td>1BVCA</td><td>I</td><td>28</td><td>V</td><td>11.0</td><td>76.5</td><td>0.0</td></tr><tr><th>5</th><td>1BVCA</td><td>L</td><td>69</td><td>I</td><td>11.0</td><td>76.5</td><td>0.0</td></tr><tr><th>6</th><td>1BVCA</td><td>L</td><td>69</td><td>M</td><td>11.0</td><td>76.5</td><td>0.0</td></tr></tbody></table>"
      ],
      "text/latex": [
       "\\begin{tabular}{r|ccccccc}\n",
       "\t& PDB\\_CHAIN & WILD\\_RES & POSITION & MUTANT\\_RES & PH & TEMPERATURE & EXP\\_DDG\\\\\n",
       "\t\\hline\n",
       "\t& String & String & Int64 & String & Float64 & Float64 & Float64\\\\\n",
       "\t\\hline\n",
       "\t1 & 1BVCA & I & 142 & M & 11.0 & 76.5 & 0.9 \\\\\n",
       "\t2 & 1BVCA & I & 142 & L & 11.0 & 76.5 & 0.6 \\\\\n",
       "\t3 & 1BVCA & L & 29 & M & 11.0 & 76.5 & 0.1 \\\\\n",
       "\t4 & 1BVCA & I & 28 & V & 11.0 & 76.5 & 0.0 \\\\\n",
       "\t5 & 1BVCA & L & 69 & I & 11.0 & 76.5 & 0.0 \\\\\n",
       "\t6 & 1BVCA & L & 69 & M & 11.0 & 76.5 & 0.0 \\\\\n",
       "\\end{tabular}\n"
      ],
      "text/plain": [
       "6×7 DataFrame. Omitted printing of 1 columns\n",
       "│ Row │ PDB_CHAIN │ WILD_RES │ POSITION │ MUTANT_RES │ PH      │ TEMPERATURE │\n",
       "│     │ \u001b[90mString\u001b[39m    │ \u001b[90mString\u001b[39m   │ \u001b[90mInt64\u001b[39m    │ \u001b[90mString\u001b[39m     │ \u001b[90mFloat64\u001b[39m │ \u001b[90mFloat64\u001b[39m     │\n",
       "├─────┼───────────┼──────────┼──────────┼────────────┼─────────┼─────────────┤\n",
       "│ 1   │ 1BVCA     │ I        │ 142      │ M          │ 11.0    │ 76.5        │\n",
       "│ 2   │ 1BVCA     │ I        │ 142      │ L          │ 11.0    │ 76.5        │\n",
       "│ 3   │ 1BVCA     │ L        │ 29       │ M          │ 11.0    │ 76.5        │\n",
       "│ 4   │ 1BVCA     │ I        │ 28       │ V          │ 11.0    │ 76.5        │\n",
       "│ 5   │ 1BVCA     │ L        │ 69       │ I          │ 11.0    │ 76.5        │\n",
       "│ 6   │ 1BVCA     │ L        │ 69       │ M          │ 11.0    │ 76.5        │"
      ]
     },
     "execution_count": 5,
     "metadata": {},
     "output_type": "execute_result"
    }
   ],
   "source": [
    "sort!(df, [:PH,:EXP_DDG], rev=(true,true))\n",
    "head(df)"
   ]
  },
  {
   "cell_type": "markdown",
   "metadata": {},
   "source": [
    "## pH = 7.0のデータ行のみとってくる"
   ]
  },
  {
   "cell_type": "code",
   "execution_count": 6,
   "metadata": {},
   "outputs": [
    {
     "data": {
      "text/html": [
       "<table class=\"data-frame\"><thead><tr><th></th><th>PDB_CHAIN</th><th>WILD_RES</th><th>POSITION</th><th>MUTANT_RES</th><th>PH</th><th>TEMPERATURE</th><th>EXP_DDG</th></tr><tr><th></th><th>String</th><th>String</th><th>Int64</th><th>String</th><th>Float64</th><th>Float64</th><th>Float64</th></tr></thead><tbody><p>6 rows × 7 columns</p><tr><th>1</th><td>1FVKA</td><td>H</td><td>32</td><td>Y</td><td>7.0</td><td>30.0</td><td>6.8</td></tr><tr><th>2</th><td>1FVKA</td><td>H</td><td>32</td><td>L</td><td>7.0</td><td>30.0</td><td>5.3</td></tr><tr><th>3</th><td>1FVKA</td><td>H</td><td>32</td><td>S</td><td>7.0</td><td>30.0</td><td>5.2</td></tr><tr><th>4</th><td>2TRXA</td><td>D</td><td>26</td><td>I</td><td>7.0</td><td>25.0</td><td>3.37</td></tr><tr><th>5</th><td>1CEYA</td><td>D</td><td>57</td><td>A</td><td>7.0</td><td>25.0</td><td>3.3</td></tr><tr><th>6</th><td>1LNIA</td><td>D</td><td>79</td><td>Y</td><td>7.0</td><td>52.6</td><td>2.9</td></tr></tbody></table>"
      ],
      "text/latex": [
       "\\begin{tabular}{r|ccccccc}\n",
       "\t& PDB\\_CHAIN & WILD\\_RES & POSITION & MUTANT\\_RES & PH & TEMPERATURE & EXP\\_DDG\\\\\n",
       "\t\\hline\n",
       "\t& String & String & Int64 & String & Float64 & Float64 & Float64\\\\\n",
       "\t\\hline\n",
       "\t1 & 1FVKA & H & 32 & Y & 7.0 & 30.0 & 6.8 \\\\\n",
       "\t2 & 1FVKA & H & 32 & L & 7.0 & 30.0 & 5.3 \\\\\n",
       "\t3 & 1FVKA & H & 32 & S & 7.0 & 30.0 & 5.2 \\\\\n",
       "\t4 & 2TRXA & D & 26 & I & 7.0 & 25.0 & 3.37 \\\\\n",
       "\t5 & 1CEYA & D & 57 & A & 7.0 & 25.0 & 3.3 \\\\\n",
       "\t6 & 1LNIA & D & 79 & Y & 7.0 & 52.6 & 2.9 \\\\\n",
       "\\end{tabular}\n"
      ],
      "text/plain": [
       "6×7 DataFrame. Omitted printing of 1 columns\n",
       "│ Row │ PDB_CHAIN │ WILD_RES │ POSITION │ MUTANT_RES │ PH      │ TEMPERATURE │\n",
       "│     │ \u001b[90mString\u001b[39m    │ \u001b[90mString\u001b[39m   │ \u001b[90mInt64\u001b[39m    │ \u001b[90mString\u001b[39m     │ \u001b[90mFloat64\u001b[39m │ \u001b[90mFloat64\u001b[39m     │\n",
       "├─────┼───────────┼──────────┼──────────┼────────────┼─────────┼─────────────┤\n",
       "│ 1   │ 1FVKA     │ H        │ 32       │ Y          │ 7.0     │ 30.0        │\n",
       "│ 2   │ 1FVKA     │ H        │ 32       │ L          │ 7.0     │ 30.0        │\n",
       "│ 3   │ 1FVKA     │ H        │ 32       │ S          │ 7.0     │ 30.0        │\n",
       "│ 4   │ 2TRXA     │ D        │ 26       │ I          │ 7.0     │ 25.0        │\n",
       "│ 5   │ 1CEYA     │ D        │ 57       │ A          │ 7.0     │ 25.0        │\n",
       "│ 6   │ 1LNIA     │ D        │ 79       │ Y          │ 7.0     │ 52.6        │"
      ]
     },
     "execution_count": 6,
     "metadata": {},
     "output_type": "execute_result"
    }
   ],
   "source": [
    "df = @linq df |> where(:PH .== 7.0)\n",
    "head(df)"
   ]
  },
  {
   "cell_type": "markdown",
   "metadata": {},
   "source": [
    "## MUTANT_RESでgroupを作る"
   ]
  },
  {
   "cell_type": "code",
   "execution_count": 7,
   "metadata": {},
   "outputs": [
    {
     "data": {
      "text/html": [
       "<p><b>GroupedDataFrame with 19 groups based on key: MUTANT_RES</b></p><p><i>First Group (12 rows): MUTANT_RES = \"Y\"</i></p><table class=\"data-frame\"><thead><tr><th></th><th>PDB_CHAIN</th><th>WILD_RES</th><th>POSITION</th><th>MUTANT_RES</th><th>PH</th><th>TEMPERATURE</th><th>EXP_DDG</th></tr><tr><th></th><th>String</th><th>String</th><th>Int64</th><th>String</th><th>Float64</th><th>Float64</th><th>Float64</th></tr></thead><tbody><tr><th>1</th><td>1FVKA</td><td>H</td><td>32</td><td>Y</td><td>7.0</td><td>30.0</td><td>6.8</td></tr><tr><th>2</th><td>1LNIA</td><td>D</td><td>79</td><td>Y</td><td>7.0</td><td>52.6</td><td>2.9</td></tr><tr><th>3</th><td>1VQBA</td><td>L</td><td>32</td><td>Y</td><td>7.0</td><td>25.0</td><td>0.5</td></tr><tr><th>4</th><td>1SHGA</td><td>F</td><td>52</td><td>Y</td><td>7.0</td><td>24.9</td><td>0.44</td></tr><tr><th>5</th><td>1K9QA</td><td>L</td><td>30</td><td>Y</td><td>7.0</td><td>56.7</td><td>0.27</td></tr><tr><th>6</th><td>1ROPA</td><td>D</td><td>30</td><td>Y</td><td>7.0</td><td>69.0</td><td>0.2</td></tr><tr><th>7</th><td>1RN1C</td><td>D</td><td>49</td><td>Y</td><td>7.0</td><td>52.4</td><td>0.0</td></tr><tr><th>8</th><td>1IFCA</td><td>W</td><td>82</td><td>Y</td><td>7.0</td><td>25.0</td><td>-0.39</td></tr><tr><th>9</th><td>5DFRA</td><td>G</td><td>121</td><td>Y</td><td>7.0</td><td>15.0</td><td>-0.51</td></tr><tr><th>10</th><td>1SHGA</td><td>K</td><td>59</td><td>Y</td><td>7.0</td><td>24.9</td><td>-0.84</td></tr><tr><th>11</th><td>1IFCA</td><td>W</td><td>6</td><td>Y</td><td>7.0</td><td>25.0</td><td>-0.87</td></tr><tr><th>12</th><td>2LZMA</td><td>I</td><td>58</td><td>Y</td><td>7.0</td><td>22.0</td><td>-3.11</td></tr></tbody></table><p>&vellip;</p><p><i>Last Group (44 rows): MUTANT_RES = \"C\"</i></p><table class=\"data-frame\"><thead><tr><th></th><th>PDB_CHAIN</th><th>WILD_RES</th><th>POSITION</th><th>MUTANT_RES</th><th>PH</th><th>TEMPERATURE</th><th>EXP_DDG</th></tr><tr><th></th><th>String</th><th>String</th><th>Int64</th><th>String</th><th>Float64</th><th>Float64</th><th>Float64</th></tr></thead><tbody><tr><th>1</th><td>1ROPA</td><td>D</td><td>30</td><td>C</td><td>7.0</td><td>69.0</td><td>0.8</td></tr><tr><th>2</th><td>1EY0A</td><td>T</td><td>41</td><td>C</td><td>7.0</td><td>20.0</td><td>0.74</td></tr><tr><th>3</th><td>1VQBA</td><td>H</td><td>64</td><td>C</td><td>7.0</td><td>25.0</td><td>0.25</td></tr><tr><th>4</th><td>1VQBA</td><td>M</td><td>77</td><td>C</td><td>7.0</td><td>25.0</td><td>0.0</td></tr><tr><th>5</th><td>1EY0A</td><td>T</td><td>44</td><td>C</td><td>7.0</td><td>20.0</td><td>-0.04</td></tr><tr><th>6</th><td>1VQBA</td><td>V</td><td>45</td><td>C</td><td>7.0</td><td>25.0</td><td>-0.05</td></tr><tr><th>7</th><td>1VQBA</td><td>V</td><td>19</td><td>C</td><td>7.0</td><td>25.0</td><td>-0.15</td></tr><tr><th>8</th><td>1EY0A</td><td>T</td><td>82</td><td>C</td><td>7.0</td><td>20.0</td><td>-0.19</td></tr><tr><th>9</th><td>5DFRA</td><td>G</td><td>121</td><td>C</td><td>7.0</td><td>15.0</td><td>-0.22</td></tr><tr><th>10</th><td>1EY0A</td><td>K</td><td>78</td><td>C</td><td>7.0</td><td>20.0</td><td>-0.26</td></tr><tr><th>11</th><td>1VQBA</td><td>T</td><td>62</td><td>C</td><td>7.0</td><td>25.0</td><td>-0.35</td></tr><tr><th>12</th><td>1VQBA</td><td>T</td><td>48</td><td>C</td><td>7.0</td><td>25.0</td><td>-0.4</td></tr><tr><th>13</th><td>1EY0A</td><td>K</td><td>70</td><td>C</td><td>7.0</td><td>20.0</td><td>-0.48</td></tr><tr><th>14</th><td>5DFRA</td><td>G</td><td>67</td><td>C</td><td>7.0</td><td>15.0</td><td>-0.51</td></tr><tr><th>15</th><td>1VQBA</td><td>V</td><td>35</td><td>C</td><td>7.0</td><td>25.0</td><td>-0.55</td></tr><tr><th>16</th><td>1EY0A</td><td>E</td><td>57</td><td>C</td><td>7.0</td><td>20.0</td><td>-0.64</td></tr><tr><th>17</th><td>1EY0A</td><td>K</td><td>134</td><td>C</td><td>7.0</td><td>20.0</td><td>-0.7</td></tr><tr><th>18</th><td>1EY0A</td><td>G</td><td>50</td><td>C</td><td>7.0</td><td>20.0</td><td>-0.75</td></tr><tr><th>19</th><td>1EY0A</td><td>A</td><td>112</td><td>C</td><td>7.0</td><td>20.0</td><td>-0.75</td></tr><tr><th>20</th><td>1VQBA</td><td>R</td><td>82</td><td>C</td><td>7.0</td><td>25.0</td><td>-0.75</td></tr><tr><th>21</th><td>1VQBA</td><td>E</td><td>40</td><td>C</td><td>7.0</td><td>25.0</td><td>-0.8</td></tr><tr><th>22</th><td>1EY0A</td><td>T</td><td>22</td><td>C</td><td>7.0</td><td>20.0</td><td>-0.95</td></tr><tr><th>23</th><td>1VQBA</td><td>D</td><td>36</td><td>C</td><td>7.0</td><td>25.0</td><td>-1.02</td></tr><tr><th>24</th><td>1EY0A</td><td>T</td><td>33</td><td>C</td><td>7.0</td><td>20.0</td><td>-1.04</td></tr><tr><th>25</th><td>1EY0A</td><td>T</td><td>62</td><td>C</td><td>7.0</td><td>20.0</td><td>-1.05</td></tr><tr><th>26</th><td>1VQBA</td><td>V</td><td>43</td><td>C</td><td>7.0</td><td>25.0</td><td>-1.05</td></tr><tr><th>27</th><td>1EY0A</td><td>A</td><td>60</td><td>C</td><td>7.0</td><td>20.0</td><td>-1.12</td></tr><tr><th>28</th><td>1EY0A</td><td>T</td><td>13</td><td>C</td><td>7.0</td><td>20.0</td><td>-1.2</td></tr><tr><th>29</th><td>1EY0A</td><td>G</td><td>29</td><td>C</td><td>7.0</td><td>20.0</td><td>-1.26</td></tr><tr><th>30</th><td>1EY0A</td><td>T</td><td>120</td><td>C</td><td>7.0</td><td>20.0</td><td>-1.59</td></tr><tr><th>&vellip;</th><td>&vellip;</td><td>&vellip;</td><td>&vellip;</td><td>&vellip;</td><td>&vellip;</td><td>&vellip;</td><td>&vellip;</td></tr></tbody></table>"
      ],
      "text/latex": [
       "GroupedDataFrame with 19 groups based on key: MUTANT\\_RES\n",
       "\n",
       "First Group (12 rows): MUTANT\\_RES = \"Y\"\n",
       "\n",
       "\\begin{tabular}{r|ccccccc}\n",
       "\t& PDB\\_CHAIN & WILD\\_RES & POSITION & MUTANT\\_RES & PH & TEMPERATURE & EXP\\_DDG\\\\\n",
       "\t\\hline\n",
       "\t& String & String & Int64 & String & Float64 & Float64 & Float64\\\\\n",
       "\t\\hline\n",
       "\t1 & 1FVKA & H & 32 & Y & 7.0 & 30.0 & 6.8 \\\\\n",
       "\t2 & 1LNIA & D & 79 & Y & 7.0 & 52.6 & 2.9 \\\\\n",
       "\t3 & 1VQBA & L & 32 & Y & 7.0 & 25.0 & 0.5 \\\\\n",
       "\t4 & 1SHGA & F & 52 & Y & 7.0 & 24.9 & 0.44 \\\\\n",
       "\t5 & 1K9QA & L & 30 & Y & 7.0 & 56.7 & 0.27 \\\\\n",
       "\t6 & 1ROPA & D & 30 & Y & 7.0 & 69.0 & 0.2 \\\\\n",
       "\t7 & 1RN1C & D & 49 & Y & 7.0 & 52.4 & 0.0 \\\\\n",
       "\t8 & 1IFCA & W & 82 & Y & 7.0 & 25.0 & -0.39 \\\\\n",
       "\t9 & 5DFRA & G & 121 & Y & 7.0 & 15.0 & -0.51 \\\\\n",
       "\t10 & 1SHGA & K & 59 & Y & 7.0 & 24.9 & -0.84 \\\\\n",
       "\t11 & 1IFCA & W & 6 & Y & 7.0 & 25.0 & -0.87 \\\\\n",
       "\t12 & 2LZMA & I & 58 & Y & 7.0 & 22.0 & -3.11 \\\\\n",
       "\\end{tabular}\n",
       "\n",
       "$\\dots$\n",
       "\n",
       "Last Group (44 rows): MUTANT\\_RES = \"C\"\n",
       "\n",
       "\\begin{tabular}{r|ccccccc}\n",
       "\t& PDB\\_CHAIN & WILD\\_RES & POSITION & MUTANT\\_RES & PH & TEMPERATURE & EXP\\_DDG\\\\\n",
       "\t\\hline\n",
       "\t& String & String & Int64 & String & Float64 & Float64 & Float64\\\\\n",
       "\t\\hline\n",
       "\t1 & 1ROPA & D & 30 & C & 7.0 & 69.0 & 0.8 \\\\\n",
       "\t2 & 1EY0A & T & 41 & C & 7.0 & 20.0 & 0.74 \\\\\n",
       "\t3 & 1VQBA & H & 64 & C & 7.0 & 25.0 & 0.25 \\\\\n",
       "\t4 & 1VQBA & M & 77 & C & 7.0 & 25.0 & 0.0 \\\\\n",
       "\t5 & 1EY0A & T & 44 & C & 7.0 & 20.0 & -0.04 \\\\\n",
       "\t6 & 1VQBA & V & 45 & C & 7.0 & 25.0 & -0.05 \\\\\n",
       "\t7 & 1VQBA & V & 19 & C & 7.0 & 25.0 & -0.15 \\\\\n",
       "\t8 & 1EY0A & T & 82 & C & 7.0 & 20.0 & -0.19 \\\\\n",
       "\t9 & 5DFRA & G & 121 & C & 7.0 & 15.0 & -0.22 \\\\\n",
       "\t10 & 1EY0A & K & 78 & C & 7.0 & 20.0 & -0.26 \\\\\n",
       "\t11 & 1VQBA & T & 62 & C & 7.0 & 25.0 & -0.35 \\\\\n",
       "\t12 & 1VQBA & T & 48 & C & 7.0 & 25.0 & -0.4 \\\\\n",
       "\t13 & 1EY0A & K & 70 & C & 7.0 & 20.0 & -0.48 \\\\\n",
       "\t14 & 5DFRA & G & 67 & C & 7.0 & 15.0 & -0.51 \\\\\n",
       "\t15 & 1VQBA & V & 35 & C & 7.0 & 25.0 & -0.55 \\\\\n",
       "\t16 & 1EY0A & E & 57 & C & 7.0 & 20.0 & -0.64 \\\\\n",
       "\t17 & 1EY0A & K & 134 & C & 7.0 & 20.0 & -0.7 \\\\\n",
       "\t18 & 1EY0A & G & 50 & C & 7.0 & 20.0 & -0.75 \\\\\n",
       "\t19 & 1EY0A & A & 112 & C & 7.0 & 20.0 & -0.75 \\\\\n",
       "\t20 & 1VQBA & R & 82 & C & 7.0 & 25.0 & -0.75 \\\\\n",
       "\t21 & 1VQBA & E & 40 & C & 7.0 & 25.0 & -0.8 \\\\\n",
       "\t22 & 1EY0A & T & 22 & C & 7.0 & 20.0 & -0.95 \\\\\n",
       "\t23 & 1VQBA & D & 36 & C & 7.0 & 25.0 & -1.02 \\\\\n",
       "\t24 & 1EY0A & T & 33 & C & 7.0 & 20.0 & -1.04 \\\\\n",
       "\t25 & 1EY0A & T & 62 & C & 7.0 & 20.0 & -1.05 \\\\\n",
       "\t26 & 1VQBA & V & 43 & C & 7.0 & 25.0 & -1.05 \\\\\n",
       "\t27 & 1EY0A & A & 60 & C & 7.0 & 20.0 & -1.12 \\\\\n",
       "\t28 & 1EY0A & T & 13 & C & 7.0 & 20.0 & -1.2 \\\\\n",
       "\t29 & 1EY0A & G & 29 & C & 7.0 & 20.0 & -1.26 \\\\\n",
       "\t30 & 1EY0A & T & 120 & C & 7.0 & 20.0 & -1.59 \\\\\n",
       "\t$\\dots$ & $\\dots$ & $\\dots$ & $\\dots$ & $\\dots$ & $\\dots$ & $\\dots$ & $\\dots$ \\\\\n",
       "\\end{tabular}\n"
      ],
      "text/plain": [
       "GroupedDataFrame with 19 groups based on key: MUTANT_RES\n",
       "First Group (12 rows): MUTANT_RES = \"Y\". Omitted printing of 1 columns\n",
       "│ Row │ PDB_CHAIN │ WILD_RES │ POSITION │ MUTANT_RES │ PH      │ TEMPERATURE │\n",
       "│     │ \u001b[90mString\u001b[39m    │ \u001b[90mString\u001b[39m   │ \u001b[90mInt64\u001b[39m    │ \u001b[90mString\u001b[39m     │ \u001b[90mFloat64\u001b[39m │ \u001b[90mFloat64\u001b[39m     │\n",
       "├─────┼───────────┼──────────┼──────────┼────────────┼─────────┼─────────────┤\n",
       "│ 1   │ 1FVKA     │ H        │ 32       │ Y          │ 7.0     │ 30.0        │\n",
       "│ 2   │ 1LNIA     │ D        │ 79       │ Y          │ 7.0     │ 52.6        │\n",
       "│ 3   │ 1VQBA     │ L        │ 32       │ Y          │ 7.0     │ 25.0        │\n",
       "│ 4   │ 1SHGA     │ F        │ 52       │ Y          │ 7.0     │ 24.9        │\n",
       "│ 5   │ 1K9QA     │ L        │ 30       │ Y          │ 7.0     │ 56.7        │\n",
       "│ 6   │ 1ROPA     │ D        │ 30       │ Y          │ 7.0     │ 69.0        │\n",
       "│ 7   │ 1RN1C     │ D        │ 49       │ Y          │ 7.0     │ 52.4        │\n",
       "│ 8   │ 1IFCA     │ W        │ 82       │ Y          │ 7.0     │ 25.0        │\n",
       "│ 9   │ 5DFRA     │ G        │ 121      │ Y          │ 7.0     │ 15.0        │\n",
       "│ 10  │ 1SHGA     │ K        │ 59       │ Y          │ 7.0     │ 24.9        │\n",
       "│ 11  │ 1IFCA     │ W        │ 6        │ Y          │ 7.0     │ 25.0        │\n",
       "│ 12  │ 2LZMA     │ I        │ 58       │ Y          │ 7.0     │ 22.0        │\n",
       "⋮\n",
       "Last Group (44 rows): MUTANT_RES = \"C\". Omitted printing of 1 columns\n",
       "│ Row │ PDB_CHAIN │ WILD_RES │ POSITION │ MUTANT_RES │ PH      │ TEMPERATURE │\n",
       "│     │ \u001b[90mString\u001b[39m    │ \u001b[90mString\u001b[39m   │ \u001b[90mInt64\u001b[39m    │ \u001b[90mString\u001b[39m     │ \u001b[90mFloat64\u001b[39m │ \u001b[90mFloat64\u001b[39m     │\n",
       "├─────┼───────────┼──────────┼──────────┼────────────┼─────────┼─────────────┤\n",
       "│ 1   │ 1ROPA     │ D        │ 30       │ C          │ 7.0     │ 69.0        │\n",
       "│ 2   │ 1EY0A     │ T        │ 41       │ C          │ 7.0     │ 20.0        │\n",
       "│ 3   │ 1VQBA     │ H        │ 64       │ C          │ 7.0     │ 25.0        │\n",
       "│ 4   │ 1VQBA     │ M        │ 77       │ C          │ 7.0     │ 25.0        │\n",
       "│ 5   │ 1EY0A     │ T        │ 44       │ C          │ 7.0     │ 20.0        │\n",
       "│ 6   │ 1VQBA     │ V        │ 45       │ C          │ 7.0     │ 25.0        │\n",
       "│ 7   │ 1VQBA     │ V        │ 19       │ C          │ 7.0     │ 25.0        │\n",
       "│ 8   │ 1EY0A     │ T        │ 82       │ C          │ 7.0     │ 20.0        │\n",
       "│ 9   │ 5DFRA     │ G        │ 121      │ C          │ 7.0     │ 15.0        │\n",
       "│ 10  │ 1EY0A     │ K        │ 78       │ C          │ 7.0     │ 20.0        │\n",
       "⋮\n",
       "│ 34  │ 1VQBA     │ L        │ 49       │ C          │ 7.0     │ 25.0        │\n",
       "│ 35  │ 1VQBA     │ V        │ 63       │ C          │ 7.0     │ 25.0        │\n",
       "│ 36  │ 1VQBA     │ I        │ 78       │ C          │ 7.0     │ 25.0        │\n",
       "│ 37  │ 1VQBA     │ L        │ 37       │ C          │ 7.0     │ 25.0        │\n",
       "│ 38  │ 1VQBA     │ I        │ 47       │ C          │ 7.0     │ 25.0        │\n",
       "│ 39  │ 1EY0A     │ R        │ 105      │ C          │ 7.0     │ 20.0        │\n",
       "│ 40  │ 1EY0A     │ Y        │ 27       │ C          │ 7.0     │ 20.0        │\n",
       "│ 41  │ 2LZMA     │ F        │ 153      │ C          │ 7.0     │ 22.0        │\n",
       "│ 42  │ 1RN1C     │ V        │ 89       │ C          │ 7.0     │ 25.0        │\n",
       "│ 43  │ 1RN1C     │ V        │ 78       │ C          │ 7.0     │ 25.0        │\n",
       "│ 44  │ 1RN1C     │ V        │ 16       │ C          │ 7.0     │ 25.0        │"
      ]
     },
     "execution_count": 7,
     "metadata": {},
     "output_type": "execute_result"
    }
   ],
   "source": [
    "df_grouped = @linq df |> groupby(:MUTANT_RES) # This depends on DataFramesMeta.jl"
   ]
  },
  {
   "cell_type": "markdown",
   "metadata": {},
   "source": [
    "## Groupがどのように分かれているか確認する"
   ]
  },
  {
   "cell_type": "code",
   "execution_count": 8,
   "metadata": {},
   "outputs": [
    {
     "data": {
      "text/plain": [
       "Dict{Any, Int64} with 19 entries:\n",
       "  (\"L\",) => 2\n",
       "  (\"H\",) => 13\n",
       "  (\"C\",) => 19\n",
       "  (\"K\",) => 6\n",
       "  (\"G\",) => 10\n",
       "  (\"F\",) => 16\n",
       "  (\"A\",) => 5\n",
       "  (\"E\",) => 11\n",
       "  (\"D\",) => 14\n",
       "  (\"N\",) => 15\n",
       "  (\"Y\",) => 1\n",
       "  (\"V\",) => 8\n",
       "  (\"I\",) => 4\n",
       "  (\"W\",) => 9\n",
       "  (\"Q\",) => 12\n",
       "  (\"R\",) => 7\n",
       "  (\"S\",) => 3\n",
       "  (\"T\",) => 17\n",
       "  (\"M\",) => 18"
      ]
     },
     "execution_count": 8,
     "metadata": {},
     "output_type": "execute_result"
    }
   ],
   "source": [
    "df_grouped.keymap"
   ]
  },
  {
   "cell_type": "code",
   "execution_count": 54,
   "metadata": {},
   "outputs": [
    {
     "name": "stdout",
     "output_type": "stream",
     "text": [
      "L2\n",
      "H13\n",
      "C19\n",
      "K6\n",
      "G10\n",
      "F16\n",
      "A5\n",
      "E11\n",
      "D14\n",
      "N15\n",
      "Y1\n",
      "V8\n",
      "I4\n",
      "W9\n",
      "Q12\n",
      "R7\n",
      "S3\n",
      "T17\n",
      "M18\n"
     ]
    },
    {
     "ename": "LoadError",
     "evalue": "syntax: extra token \")\" after end of expression",
     "output_type": "error",
     "traceback": [
      "syntax: extra token \")\" after end of expression",
      "",
      "Stacktrace:",
      " [1] top-level scope",
      "   @ In[54]:7",
      " [2] eval",
      "   @ ./boot.jl:360 [inlined]",
      " [3] include_string(mapexpr::typeof(REPL.softscope), mod::Module, code::String, filename::String)",
      "   @ Base ./loading.jl:1094"
     ]
    }
   ],
   "source": [
    "bins = 50\n",
    "ps = []\n",
    "for (resn, value) in df_grouped.keymap\n",
    "    println(resn[1], value)\n",
    "    push!(ps, histogram(df_grouped[value].EXP_DDG, bins=bins, label=resn[1]))\n",
    "end\n",
    "p = plot(ps[1],ps[2]))"
   ]
  },
  {
   "cell_type": "code",
   "execution_count": null,
   "metadata": {},
   "outputs": [],
   "source": []
  }
 ],
 "metadata": {
  "gist": {
   "data": {
    "description": "Untitled.ipynb",
    "public": true
   },
   "id": ""
  },
  "kernelspec": {
   "display_name": "Julia 1.6.0",
   "language": "julia",
   "name": "julia-1.6"
  },
  "language_info": {
   "file_extension": ".jl",
   "mimetype": "application/julia",
   "name": "julia",
   "version": "1.6.0"
  }
 },
 "nbformat": 4,
 "nbformat_minor": 4
}
